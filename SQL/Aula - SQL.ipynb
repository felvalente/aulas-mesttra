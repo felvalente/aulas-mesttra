{
 "cells": [
  {
   "cell_type": "markdown",
   "metadata": {},
   "source": [
    "# Aula 6: SQL"
   ]
  },
  {
   "cell_type": "markdown",
   "metadata": {},
   "source": [
    "## Introdução\n",
    "\n",
    "- SQL é uma linguagem padrão para trabalhar com bancos de dados relacionais\n",
    "- É uma linguagem declarativa e que não necessita de profundos conhecimentos de programação para que alguém possa começar a escrever queries\n",
    "- SQL é acrônimo de Structured Query Language, literalmente a linguagem struturada para realizar queries.\n",
    "- Apesar de existirem diversos bancos de dados relacionais, cada um com sua funcionalidade, todos possuem comandos básicos que podem ser aplicados em qualquer banco de dados:\n",
    "\n",
    "![](https://cdn-images-1.medium.com/fit/t/1600/480/1*LcXr-gRpSfe63XjdCVa15A.png)"
   ]
  },
  {
   "cell_type": "markdown",
   "metadata": {},
   "source": [
    "- Nessa aula usaremos o site https://www.db4free.net/, que utiliza MySQL\n",
    "- Antes de começarmos, criem uma conta no DB4Free"
   ]
  },
  {
   "cell_type": "markdown",
   "metadata": {},
   "source": [
    "## Códigos"
   ]
  },
  {
   "cell_type": "markdown",
   "metadata": {},
   "source": [
    "É possível **Inserir** dados na tabela, por exemplo:\n",
    "\n",
    "    INSERT INTO Usuarios(nome, idade, sexo, salario) VALUES (\"Joaquim Silva\",60,\"M\",200)\n",
    "    \n",
    "É possível **Atualizar** a tabela, por exemplo: \n",
    "\n",
    "    UPDATE Usuarios SET salario=2000 WHERE Nome=\"Joaquim Silva\"\n",
    "    \n",
    "É possível **Remover** os dados, por exemplo:\n",
    "\n",
    "    DELETE FROM Usuarios WHERE Nome=\"Joaquim Silva\"\n",
    "    \n",
    "É Possível **Consultar** a tabela, por exemplo :"
   ]
  },
  {
   "cell_type": "markdown",
   "metadata": {},
   "source": [
    "## Conexao no db4free"
   ]
  },
  {
   "cell_type": "markdown",
   "metadata": {},
   "source": [
    "- Para trabalhar com bancos de dados, temos que fazer uma conexão do nosso jupyter notebook com o banco de dados"
   ]
  },
  {
   "cell_type": "code",
   "execution_count": 1,
   "metadata": {
    "ExecuteTime": {
     "end_time": "2021-07-06T22:08:13.391544Z",
     "start_time": "2021-07-06T22:08:13.311542Z"
    }
   },
   "outputs": [],
   "source": [
    "# importando libs necessárias\n",
    "import mysql.connector"
   ]
  },
  {
   "cell_type": "code",
   "execution_count": 17,
   "metadata": {
    "ExecuteTime": {
     "end_time": "2021-07-06T22:11:31.018354Z",
     "start_time": "2021-07-06T22:11:31.000353Z"
    }
   },
   "outputs": [],
   "source": [
    "#Dados do banco de dados db4free\n",
    "user = 'ossamum'\n",
    "password = 'letscode'\n",
    "host = 'db4free.net'\n",
    "database = 'ossamum_db'\n",
    "port = 3306"
   ]
  },
  {
   "cell_type": "code",
   "execution_count": 18,
   "metadata": {
    "ExecuteTime": {
     "end_time": "2021-07-06T22:12:01.287781Z",
     "start_time": "2021-07-06T22:11:31.181457Z"
    }
   },
   "outputs": [],
   "source": [
    "#Conectando\n",
    "con = mysql.connector.connect(user=user, \n",
    "                              password=password,\n",
    "                              host=host,\n",
    "                              database=database, port=port)\n",
    "\n",
    "cursor = con.cursor()"
   ]
  },
  {
   "cell_type": "markdown",
   "metadata": {},
   "source": [
    "## Queries de criação e manipulação de tabelas"
   ]
  },
  {
   "cell_type": "markdown",
   "metadata": {},
   "source": [
    "- Agora que estabelecemos a conexão com o banco de dados, podemos começar a aplicar as queries\n",
    "- Podemos escrever as queries dentro da variável `query` e o `cursor.execute(query)` aplica a query"
   ]
  },
  {
   "cell_type": "markdown",
   "metadata": {},
   "source": [
    "### Show tables"
   ]
  },
  {
   "cell_type": "markdown",
   "metadata": {},
   "source": [
    "Mostrar tabelas do banco de dados"
   ]
  },
  {
   "cell_type": "code",
   "execution_count": 36,
   "metadata": {
    "ExecuteTime": {
     "end_time": "2021-07-06T22:23:56.242385Z",
     "start_time": "2021-07-06T22:23:55.996572Z"
    },
    "scrolled": true
   },
   "outputs": [],
   "source": [
    "query = '''\n",
    "    SHOW TABLES\n",
    "'''\n",
    "\n",
    "cursor.execute(query)"
   ]
  },
  {
   "cell_type": "markdown",
   "metadata": {},
   "source": [
    "Buscar o resultado da query com o método `fetchall`"
   ]
  },
  {
   "cell_type": "code",
   "execution_count": 37,
   "metadata": {
    "ExecuteTime": {
     "end_time": "2021-07-06T22:23:57.466840Z",
     "start_time": "2021-07-06T22:23:57.446840Z"
    }
   },
   "outputs": [
    {
     "data": {
      "text/plain": [
       "[(bytearray(b'empresas2'),)]"
      ]
     },
     "execution_count": 37,
     "metadata": {},
     "output_type": "execute_result"
    }
   ],
   "source": [
    "cursor.fetchall()"
   ]
  },
  {
   "cell_type": "markdown",
   "metadata": {},
   "source": [
    "### Create table"
   ]
  },
  {
   "cell_type": "markdown",
   "metadata": {},
   "source": [
    "Criar tabela"
   ]
  },
  {
   "cell_type": "code",
   "execution_count": 29,
   "metadata": {
    "ExecuteTime": {
     "end_time": "2021-07-05T22:14:46.431947Z",
     "start_time": "2021-07-05T22:14:46.414929Z"
    },
    "scrolled": true
   },
   "outputs": [],
   "source": [
    "query = '''CREATE TABLE empresas(estabelecimento CHAR(40),\n",
    "                               receita INT,\n",
    "                               custo INT,\n",
    "                               anomes INT)'''\n",
    "cursor.execute(query)"
   ]
  },
  {
   "cell_type": "markdown",
   "metadata": {},
   "source": [
    "### Drop table"
   ]
  },
  {
   "cell_type": "markdown",
   "metadata": {},
   "source": [
    "Deletar tabela"
   ]
  },
  {
   "cell_type": "code",
   "execution_count": 23,
   "metadata": {
    "ExecuteTime": {
     "end_time": "2021-07-05T21:52:08.255046Z",
     "start_time": "2021-07-05T21:52:07.515454Z"
    }
   },
   "outputs": [],
   "source": [
    "query = '''\n",
    "    DROP TABLE empresas\n",
    "'''\n",
    "\n",
    "cursor.execute(query)"
   ]
  },
  {
   "cell_type": "markdown",
   "metadata": {},
   "source": [
    "###  Insert into table"
   ]
  },
  {
   "cell_type": "markdown",
   "metadata": {},
   "source": [
    "Agora que criamos uma tabela, podemos inserir valores nela"
   ]
  },
  {
   "cell_type": "code",
   "execution_count": 30,
   "metadata": {
    "ExecuteTime": {
     "end_time": "2021-07-05T22:15:58.150864Z",
     "start_time": "2021-07-05T22:15:57.906813Z"
    }
   },
   "outputs": [],
   "source": [
    "val = (\"MCDonalds\",\"5000\",\"4000\",\"201912\")\n",
    "\n",
    "query = f'''INSERT INTO empresas(estabelecimento,receita, custo, anomes) \n",
    "VALUES ('{val[0]}','{val[1]}','{val[2]}','{val[3]}')'''\n",
    "\n",
    "\n",
    "cursor.execute(query)"
   ]
  },
  {
   "cell_type": "markdown",
   "metadata": {},
   "source": [
    "###  Select"
   ]
  },
  {
   "cell_type": "markdown",
   "metadata": {},
   "source": [
    "Podemos checar os valores com o comando `Select`"
   ]
  },
  {
   "cell_type": "code",
   "execution_count": 31,
   "metadata": {
    "ExecuteTime": {
     "end_time": "2021-07-05T22:17:33.925239Z",
     "start_time": "2021-07-05T22:17:33.671819Z"
    }
   },
   "outputs": [
    {
     "name": "stdout",
     "output_type": "stream",
     "text": [
      "[('MCDonalds', 5000, 4000, 201912)]\n"
     ]
    }
   ],
   "source": [
    "query = \"SELECT * FROM empresas\"\n",
    "\n",
    "cursor.execute(query)\n",
    "\n",
    "resultado = cursor.fetchall()\n",
    "\n",
    "\n",
    "print(resultado)"
   ]
  },
  {
   "cell_type": "markdown",
   "metadata": {},
   "source": [
    "- No caso de consulta, podemos usar a biblioteca de manipulação da dados `pandas`"
   ]
  },
  {
   "cell_type": "code",
   "execution_count": 7,
   "metadata": {
    "ExecuteTime": {
     "end_time": "2021-07-06T22:08:54.971395Z",
     "start_time": "2021-07-06T22:08:54.163952Z"
    }
   },
   "outputs": [],
   "source": [
    "import pandas as pd"
   ]
  },
  {
   "cell_type": "code",
   "execution_count": 33,
   "metadata": {
    "ExecuteTime": {
     "end_time": "2021-07-05T22:18:57.403598Z",
     "start_time": "2021-07-05T22:18:56.670474Z"
    }
   },
   "outputs": [
    {
     "data": {
      "text/html": [
       "<div>\n",
       "<style scoped>\n",
       "    .dataframe tbody tr th:only-of-type {\n",
       "        vertical-align: middle;\n",
       "    }\n",
       "\n",
       "    .dataframe tbody tr th {\n",
       "        vertical-align: top;\n",
       "    }\n",
       "\n",
       "    .dataframe thead th {\n",
       "        text-align: right;\n",
       "    }\n",
       "</style>\n",
       "<table border=\"1\" class=\"dataframe\">\n",
       "  <thead>\n",
       "    <tr style=\"text-align: right;\">\n",
       "      <th></th>\n",
       "      <th>estabelecimento</th>\n",
       "      <th>receita</th>\n",
       "      <th>custo</th>\n",
       "      <th>anomes</th>\n",
       "    </tr>\n",
       "  </thead>\n",
       "  <tbody>\n",
       "    <tr>\n",
       "      <th>0</th>\n",
       "      <td>MCDonalds</td>\n",
       "      <td>5000</td>\n",
       "      <td>4000</td>\n",
       "      <td>201912</td>\n",
       "    </tr>\n",
       "  </tbody>\n",
       "</table>\n",
       "</div>"
      ],
      "text/plain": [
       "  estabelecimento  receita  custo  anomes\n",
       "0       MCDonalds     5000   4000  201912"
      ]
     },
     "execution_count": 33,
     "metadata": {},
     "output_type": "execute_result"
    }
   ],
   "source": [
    "pd.read_sql(query, con)"
   ]
  },
  {
   "cell_type": "markdown",
   "metadata": {},
   "source": [
    "###  Inserindo mais dados"
   ]
  },
  {
   "cell_type": "code",
   "execution_count": 34,
   "metadata": {
    "ExecuteTime": {
     "end_time": "2021-07-05T22:20:02.403874Z",
     "start_time": "2021-07-05T22:20:02.145917Z"
    }
   },
   "outputs": [],
   "source": [
    "val =  [(\"Wendys\",\"6000\",\"4500\",\"202001\"),\n",
    "        (\"Patties\",\"900\",\"900\",\"202001\"),\n",
    "        ('Zebeleo', '5', '10000', '202002'),\n",
    "        ('Koburger', '3000', '2500', '202002')]\n",
    "\n",
    "\n",
    "sql = '''INSERT INTO empresas(estabelecimento, receita, custo, anomes) \n",
    "          VALUES (%s,%s,%s,%s)'''\n",
    "\n",
    "cursor.executemany(sql, val)"
   ]
  },
  {
   "cell_type": "markdown",
   "metadata": {},
   "source": [
    "Podemos criar uma função no python para inserir dados diretamente no banco de dados"
   ]
  },
  {
   "cell_type": "code",
   "execution_count": 37,
   "metadata": {
    "ExecuteTime": {
     "end_time": "2021-07-05T22:22:31.095130Z",
     "start_time": "2021-07-05T22:22:31.082133Z"
    }
   },
   "outputs": [],
   "source": [
    "def input_data(con=con, cursor=cursor):\n",
    "    print('Nome da Empresa :')\n",
    "    nome = input()\n",
    "    print('Receita da Empresa :')\n",
    "    receita = input()\n",
    "    print('Custo da Empresa :')\n",
    "    custo = input()\n",
    "    print('Anomes :')\n",
    "    anomes = input()\n",
    "    \n",
    "    \n",
    "    query = f'''INSERT INTO empresas(estabelecimento,receita, custo, anomes) \n",
    "                    VALUES ('{nome}','{receita}','{custo}','{anomes}')'''\n",
    "    \n",
    "    cursor.execute(query)\n",
    "    \n",
    "    print('Data inserted!')"
   ]
  },
  {
   "cell_type": "code",
   "execution_count": 38,
   "metadata": {
    "ExecuteTime": {
     "end_time": "2021-07-05T22:23:32.152769Z",
     "start_time": "2021-07-05T22:22:33.391209Z"
    }
   },
   "outputs": [
    {
     "name": "stdout",
     "output_type": "stream",
     "text": [
      "Nome da Empresa :\n",
      "Bullguer\n",
      "Receita da Empresa :\n",
      "400\n",
      "Custo da Empresa :\n",
      "600\n",
      "Anomes :\n",
      "202103\n",
      "Data inserted!\n"
     ]
    }
   ],
   "source": [
    "input_data()"
   ]
  },
  {
   "cell_type": "markdown",
   "metadata": {},
   "source": [
    "### Delete "
   ]
  },
  {
   "cell_type": "markdown",
   "metadata": {},
   "source": [
    "Podemos deletar uma linha do banco de dados"
   ]
  },
  {
   "cell_type": "code",
   "execution_count": 39,
   "metadata": {
    "ExecuteTime": {
     "end_time": "2021-07-05T22:28:17.525951Z",
     "start_time": "2021-07-05T22:28:17.269667Z"
    }
   },
   "outputs": [],
   "source": [
    "query = \"DELETE FROM empresas Where estabelecimento = 'Bullguer'\"\n",
    "cursor.execute(query)"
   ]
  },
  {
   "cell_type": "markdown",
   "metadata": {},
   "source": [
    "### Update"
   ]
  },
  {
   "cell_type": "markdown",
   "metadata": {},
   "source": [
    "Podemos atualizar um valor da tabela"
   ]
  },
  {
   "cell_type": "code",
   "execution_count": 42,
   "metadata": {
    "ExecuteTime": {
     "end_time": "2021-07-05T22:29:44.354424Z",
     "start_time": "2021-07-05T22:29:44.109090Z"
    }
   },
   "outputs": [],
   "source": [
    "query = \"UPDATE empresas set estabelecimento = 'Mequi_1000' Where estabelecimento = 'MCDonalds'\"\n",
    "cursor.execute(query)"
   ]
  },
  {
   "cell_type": "markdown",
   "metadata": {},
   "source": [
    "## Queries de consulta"
   ]
  },
  {
   "cell_type": "code",
   "execution_count": 42,
   "metadata": {
    "ExecuteTime": {
     "end_time": "2021-07-06T22:26:05.678437Z",
     "start_time": "2021-07-06T22:26:05.669436Z"
    },
    "scrolled": true
   },
   "outputs": [],
   "source": [
    "import sqlalchemy\n",
    "engine = sqlalchemy.create_engine(f'mysql://{user}:{password}@{host}:{port}/{database}') # connect to server"
   ]
  },
  {
   "cell_type": "markdown",
   "metadata": {},
   "source": [
    "### SELECT e FROM"
   ]
  },
  {
   "cell_type": "markdown",
   "metadata": {},
   "source": [
    "- Já vimos o `SELECT` e `FROM` acima\n",
    "    - `SELECT` seleciona as colunas que queremos trazer\n",
    "        - `*` seleciona toda das colunas\n",
    "    - `FROM` seleciona a tabela que analisaremos\n",
    "- Para facilitar a consulta, podemos aplicar o `LIMIT`, que define o número de linhas que a query irá trazer"
   ]
  },
  {
   "cell_type": "code",
   "execution_count": 46,
   "metadata": {
    "ExecuteTime": {
     "end_time": "2021-07-06T22:36:15.022030Z",
     "start_time": "2021-07-06T22:36:14.473672Z"
    }
   },
   "outputs": [
    {
     "data": {
      "text/html": [
       "<div>\n",
       "<style scoped>\n",
       "    .dataframe tbody tr th:only-of-type {\n",
       "        vertical-align: middle;\n",
       "    }\n",
       "\n",
       "    .dataframe tbody tr th {\n",
       "        vertical-align: top;\n",
       "    }\n",
       "\n",
       "    .dataframe thead th {\n",
       "        text-align: right;\n",
       "    }\n",
       "</style>\n",
       "<table border=\"1\" class=\"dataframe\">\n",
       "  <thead>\n",
       "    <tr style=\"text-align: right;\">\n",
       "      <th></th>\n",
       "      <th>index</th>\n",
       "      <th>ID</th>\n",
       "      <th>Target</th>\n",
       "      <th>GrupoEconomico</th>\n",
       "      <th>Sexo</th>\n",
       "      <th>Idade</th>\n",
       "      <th>GrupoRisco</th>\n",
       "      <th>ValorCompraAnual</th>\n",
       "      <th>GastoMax</th>\n",
       "      <th>GastoMedio</th>\n",
       "      <th>UF</th>\n",
       "      <th>CidadeResidencia</th>\n",
       "      <th>RegiaodoPais</th>\n",
       "      <th>NumeroComprasOnline</th>\n",
       "    </tr>\n",
       "  </thead>\n",
       "  <tbody>\n",
       "    <tr>\n",
       "      <th>0</th>\n",
       "      <td>0</td>\n",
       "      <td>1</td>\n",
       "      <td>0</td>\n",
       "      <td>3</td>\n",
       "      <td>homem</td>\n",
       "      <td>22</td>\n",
       "      <td>1</td>\n",
       "      <td>7250.0</td>\n",
       "      <td>517.857143</td>\n",
       "      <td>604.166667</td>\n",
       "      <td>MG</td>\n",
       "      <td>Morada Nova de Minas</td>\n",
       "      <td>Região Sudeste</td>\n",
       "      <td>54.924242</td>\n",
       "    </tr>\n",
       "    <tr>\n",
       "      <th>1</th>\n",
       "      <td>1</td>\n",
       "      <td>2</td>\n",
       "      <td>1</td>\n",
       "      <td>1</td>\n",
       "      <td>mulher</td>\n",
       "      <td>38</td>\n",
       "      <td>1</td>\n",
       "      <td>71283.0</td>\n",
       "      <td>5091.642857</td>\n",
       "      <td>5940.250000</td>\n",
       "      <td>RN</td>\n",
       "      <td>Marcelino Vieira</td>\n",
       "      <td>Região Nordeste</td>\n",
       "      <td>312.644737</td>\n",
       "    </tr>\n",
       "    <tr>\n",
       "      <th>2</th>\n",
       "      <td>2</td>\n",
       "      <td>3</td>\n",
       "      <td>1</td>\n",
       "      <td>3</td>\n",
       "      <td>mulher</td>\n",
       "      <td>26</td>\n",
       "      <td>0</td>\n",
       "      <td>7925.0</td>\n",
       "      <td>566.071429</td>\n",
       "      <td>660.416667</td>\n",
       "      <td>PR</td>\n",
       "      <td>Agudos do Sul</td>\n",
       "      <td>Região Sul</td>\n",
       "      <td>50.801282</td>\n",
       "    </tr>\n",
       "    <tr>\n",
       "      <th>3</th>\n",
       "      <td>3</td>\n",
       "      <td>4</td>\n",
       "      <td>1</td>\n",
       "      <td>1</td>\n",
       "      <td>mulher</td>\n",
       "      <td>35</td>\n",
       "      <td>1</td>\n",
       "      <td>531.0</td>\n",
       "      <td>37.928571</td>\n",
       "      <td>44.250000</td>\n",
       "      <td>PR</td>\n",
       "      <td>Congonhinhas</td>\n",
       "      <td>Região Sul</td>\n",
       "      <td>2.528571</td>\n",
       "    </tr>\n",
       "    <tr>\n",
       "      <th>4</th>\n",
       "      <td>4</td>\n",
       "      <td>5</td>\n",
       "      <td>0</td>\n",
       "      <td>3</td>\n",
       "      <td>homem</td>\n",
       "      <td>35</td>\n",
       "      <td>0</td>\n",
       "      <td>805.0</td>\n",
       "      <td>57.500000</td>\n",
       "      <td>67.083333</td>\n",
       "      <td>BA</td>\n",
       "      <td>Morpará</td>\n",
       "      <td>Região Nordeste</td>\n",
       "      <td>3.833333</td>\n",
       "    </tr>\n",
       "  </tbody>\n",
       "</table>\n",
       "</div>"
      ],
      "text/plain": [
       "   index  ID  Target  GrupoEconomico    Sexo  Idade  GrupoRisco  \\\n",
       "0      0   1       0               3   homem     22           1   \n",
       "1      1   2       1               1  mulher     38           1   \n",
       "2      2   3       1               3  mulher     26           0   \n",
       "3      3   4       1               1  mulher     35           1   \n",
       "4      4   5       0               3   homem     35           0   \n",
       "\n",
       "   ValorCompraAnual     GastoMax   GastoMedio  UF      CidadeResidencia  \\\n",
       "0            7250.0   517.857143   604.166667  MG  Morada Nova de Minas   \n",
       "1           71283.0  5091.642857  5940.250000  RN      Marcelino Vieira   \n",
       "2            7925.0   566.071429   660.416667  PR         Agudos do Sul   \n",
       "3             531.0    37.928571    44.250000  PR          Congonhinhas   \n",
       "4             805.0    57.500000    67.083333  BA               Morpará   \n",
       "\n",
       "      RegiaodoPais  NumeroComprasOnline  \n",
       "0   Região Sudeste            54.924242  \n",
       "1  Região Nordeste           312.644737  \n",
       "2       Região Sul            50.801282  \n",
       "3       Região Sul             2.528571  \n",
       "4  Região Nordeste             3.833333  "
      ]
     },
     "execution_count": 46,
     "metadata": {},
     "output_type": "execute_result"
    }
   ],
   "source": [
    "query = '''\n",
    "SELECT *\n",
    "FROM AtrasoCartaoCredito\n",
    "LIMIT 5\n",
    "'''\n",
    "\n",
    "pd.read_sql_query(query, engine)"
   ]
  },
  {
   "cell_type": "markdown",
   "metadata": {},
   "source": [
    "### WHERE"
   ]
  },
  {
   "cell_type": "markdown",
   "metadata": {},
   "source": [
    "- Podemos filtar algumas observações com o comando `WHERE`"
   ]
  },
  {
   "cell_type": "code",
   "execution_count": 47,
   "metadata": {
    "ExecuteTime": {
     "end_time": "2021-07-06T22:36:41.517650Z",
     "start_time": "2021-07-06T22:36:41.018220Z"
    }
   },
   "outputs": [
    {
     "data": {
      "text/html": [
       "<div>\n",
       "<style scoped>\n",
       "    .dataframe tbody tr th:only-of-type {\n",
       "        vertical-align: middle;\n",
       "    }\n",
       "\n",
       "    .dataframe tbody tr th {\n",
       "        vertical-align: top;\n",
       "    }\n",
       "\n",
       "    .dataframe thead th {\n",
       "        text-align: right;\n",
       "    }\n",
       "</style>\n",
       "<table border=\"1\" class=\"dataframe\">\n",
       "  <thead>\n",
       "    <tr style=\"text-align: right;\">\n",
       "      <th></th>\n",
       "      <th>index</th>\n",
       "      <th>ID</th>\n",
       "      <th>Target</th>\n",
       "      <th>GrupoEconomico</th>\n",
       "      <th>Sexo</th>\n",
       "      <th>Idade</th>\n",
       "      <th>GrupoRisco</th>\n",
       "      <th>ValorCompraAnual</th>\n",
       "      <th>GastoMax</th>\n",
       "      <th>GastoMedio</th>\n",
       "      <th>UF</th>\n",
       "      <th>CidadeResidencia</th>\n",
       "      <th>RegiaodoPais</th>\n",
       "      <th>NumeroComprasOnline</th>\n",
       "    </tr>\n",
       "  </thead>\n",
       "  <tbody>\n",
       "    <tr>\n",
       "      <th>0</th>\n",
       "      <td>0</td>\n",
       "      <td>1</td>\n",
       "      <td>0</td>\n",
       "      <td>3</td>\n",
       "      <td>homem</td>\n",
       "      <td>22</td>\n",
       "      <td>1</td>\n",
       "      <td>7250.0</td>\n",
       "      <td>517.857143</td>\n",
       "      <td>604.166667</td>\n",
       "      <td>MG</td>\n",
       "      <td>Morada Nova de Minas</td>\n",
       "      <td>Região Sudeste</td>\n",
       "      <td>54.924242</td>\n",
       "    </tr>\n",
       "    <tr>\n",
       "      <th>1</th>\n",
       "      <td>4</td>\n",
       "      <td>5</td>\n",
       "      <td>0</td>\n",
       "      <td>3</td>\n",
       "      <td>homem</td>\n",
       "      <td>35</td>\n",
       "      <td>0</td>\n",
       "      <td>805.0</td>\n",
       "      <td>57.500000</td>\n",
       "      <td>67.083333</td>\n",
       "      <td>BA</td>\n",
       "      <td>Morpará</td>\n",
       "      <td>Região Nordeste</td>\n",
       "      <td>3.833333</td>\n",
       "    </tr>\n",
       "    <tr>\n",
       "      <th>2</th>\n",
       "      <td>5</td>\n",
       "      <td>6</td>\n",
       "      <td>0</td>\n",
       "      <td>3</td>\n",
       "      <td>homem</td>\n",
       "      <td>22</td>\n",
       "      <td>0</td>\n",
       "      <td>84583.0</td>\n",
       "      <td>6041.642857</td>\n",
       "      <td>7048.583333</td>\n",
       "      <td>AL</td>\n",
       "      <td>Carneiros</td>\n",
       "      <td>Região Nordeste</td>\n",
       "      <td>640.780303</td>\n",
       "    </tr>\n",
       "    <tr>\n",
       "      <th>3</th>\n",
       "      <td>6</td>\n",
       "      <td>7</td>\n",
       "      <td>0</td>\n",
       "      <td>1</td>\n",
       "      <td>homem</td>\n",
       "      <td>54</td>\n",
       "      <td>0</td>\n",
       "      <td>51862.0</td>\n",
       "      <td>3704.428571</td>\n",
       "      <td>4321.833333</td>\n",
       "      <td>PR</td>\n",
       "      <td>Figueira</td>\n",
       "      <td>Região Sul</td>\n",
       "      <td>160.067901</td>\n",
       "    </tr>\n",
       "    <tr>\n",
       "      <th>4</th>\n",
       "      <td>7</td>\n",
       "      <td>8</td>\n",
       "      <td>0</td>\n",
       "      <td>3</td>\n",
       "      <td>homem</td>\n",
       "      <td>20</td>\n",
       "      <td>3</td>\n",
       "      <td>21075.0</td>\n",
       "      <td>1505.357143</td>\n",
       "      <td>1756.250000</td>\n",
       "      <td>BA</td>\n",
       "      <td>Ouriçangas</td>\n",
       "      <td>Região Nordeste</td>\n",
       "      <td>175625.000000</td>\n",
       "    </tr>\n",
       "  </tbody>\n",
       "</table>\n",
       "</div>"
      ],
      "text/plain": [
       "   index  ID  Target  GrupoEconomico   Sexo  Idade  GrupoRisco  \\\n",
       "0      0   1       0               3  homem     22           1   \n",
       "1      4   5       0               3  homem     35           0   \n",
       "2      5   6       0               3  homem     22           0   \n",
       "3      6   7       0               1  homem     54           0   \n",
       "4      7   8       0               3  homem     20           3   \n",
       "\n",
       "   ValorCompraAnual     GastoMax   GastoMedio  UF      CidadeResidencia  \\\n",
       "0            7250.0   517.857143   604.166667  MG  Morada Nova de Minas   \n",
       "1             805.0    57.500000    67.083333  BA               Morpará   \n",
       "2           84583.0  6041.642857  7048.583333  AL             Carneiros   \n",
       "3           51862.0  3704.428571  4321.833333  PR              Figueira   \n",
       "4           21075.0  1505.357143  1756.250000  BA            Ouriçangas   \n",
       "\n",
       "      RegiaodoPais  NumeroComprasOnline  \n",
       "0   Região Sudeste            54.924242  \n",
       "1  Região Nordeste             3.833333  \n",
       "2  Região Nordeste           640.780303  \n",
       "3       Região Sul           160.067901  \n",
       "4  Região Nordeste        175625.000000  "
      ]
     },
     "execution_count": 47,
     "metadata": {},
     "output_type": "execute_result"
    }
   ],
   "source": [
    "query = '''\n",
    "SELECT *\n",
    "FROM AtrasoCartaoCredito\n",
    "WHERE Sexo = 'homem'\n",
    "LIMIT 5\n",
    "'''\n",
    "\n",
    "pd.read_sql_query(query, engine)"
   ]
  },
  {
   "cell_type": "markdown",
   "metadata": {},
   "source": [
    "- `<>` significa \"diferente\", ou seja, selecionaremos todos `purchase_id` menos `0`"
   ]
  },
  {
   "cell_type": "code",
   "execution_count": 48,
   "metadata": {
    "ExecuteTime": {
     "end_time": "2021-07-06T22:36:55.947767Z",
     "start_time": "2021-07-06T22:36:55.449040Z"
    }
   },
   "outputs": [
    {
     "data": {
      "text/html": [
       "<div>\n",
       "<style scoped>\n",
       "    .dataframe tbody tr th:only-of-type {\n",
       "        vertical-align: middle;\n",
       "    }\n",
       "\n",
       "    .dataframe tbody tr th {\n",
       "        vertical-align: top;\n",
       "    }\n",
       "\n",
       "    .dataframe thead th {\n",
       "        text-align: right;\n",
       "    }\n",
       "</style>\n",
       "<table border=\"1\" class=\"dataframe\">\n",
       "  <thead>\n",
       "    <tr style=\"text-align: right;\">\n",
       "      <th></th>\n",
       "      <th>index</th>\n",
       "      <th>ID</th>\n",
       "      <th>Target</th>\n",
       "      <th>GrupoEconomico</th>\n",
       "      <th>Sexo</th>\n",
       "      <th>Idade</th>\n",
       "      <th>GrupoRisco</th>\n",
       "      <th>ValorCompraAnual</th>\n",
       "      <th>GastoMax</th>\n",
       "      <th>GastoMedio</th>\n",
       "      <th>UF</th>\n",
       "      <th>CidadeResidencia</th>\n",
       "      <th>RegiaodoPais</th>\n",
       "      <th>NumeroComprasOnline</th>\n",
       "    </tr>\n",
       "  </thead>\n",
       "  <tbody>\n",
       "    <tr>\n",
       "      <th>0</th>\n",
       "      <td>1</td>\n",
       "      <td>2</td>\n",
       "      <td>1</td>\n",
       "      <td>1</td>\n",
       "      <td>mulher</td>\n",
       "      <td>38</td>\n",
       "      <td>1</td>\n",
       "      <td>71283.0</td>\n",
       "      <td>5091.642857</td>\n",
       "      <td>5940.250000</td>\n",
       "      <td>RN</td>\n",
       "      <td>Marcelino Vieira</td>\n",
       "      <td>Região Nordeste</td>\n",
       "      <td>312.644737</td>\n",
       "    </tr>\n",
       "    <tr>\n",
       "      <th>1</th>\n",
       "      <td>2</td>\n",
       "      <td>3</td>\n",
       "      <td>1</td>\n",
       "      <td>3</td>\n",
       "      <td>mulher</td>\n",
       "      <td>26</td>\n",
       "      <td>0</td>\n",
       "      <td>7925.0</td>\n",
       "      <td>566.071429</td>\n",
       "      <td>660.416667</td>\n",
       "      <td>PR</td>\n",
       "      <td>Agudos do Sul</td>\n",
       "      <td>Região Sul</td>\n",
       "      <td>50.801282</td>\n",
       "    </tr>\n",
       "    <tr>\n",
       "      <th>2</th>\n",
       "      <td>3</td>\n",
       "      <td>4</td>\n",
       "      <td>1</td>\n",
       "      <td>1</td>\n",
       "      <td>mulher</td>\n",
       "      <td>35</td>\n",
       "      <td>1</td>\n",
       "      <td>531.0</td>\n",
       "      <td>37.928571</td>\n",
       "      <td>44.250000</td>\n",
       "      <td>PR</td>\n",
       "      <td>Congonhinhas</td>\n",
       "      <td>Região Sul</td>\n",
       "      <td>2.528571</td>\n",
       "    </tr>\n",
       "    <tr>\n",
       "      <th>3</th>\n",
       "      <td>8</td>\n",
       "      <td>9</td>\n",
       "      <td>1</td>\n",
       "      <td>3</td>\n",
       "      <td>mulher</td>\n",
       "      <td>27</td>\n",
       "      <td>0</td>\n",
       "      <td>11133.0</td>\n",
       "      <td>795.214286</td>\n",
       "      <td>927.750000</td>\n",
       "      <td>MG</td>\n",
       "      <td>Comercinho</td>\n",
       "      <td>Região Sudeste</td>\n",
       "      <td>68.722222</td>\n",
       "    </tr>\n",
       "    <tr>\n",
       "      <th>4</th>\n",
       "      <td>9</td>\n",
       "      <td>10</td>\n",
       "      <td>1</td>\n",
       "      <td>2</td>\n",
       "      <td>mulher</td>\n",
       "      <td>14</td>\n",
       "      <td>1</td>\n",
       "      <td>3007.0</td>\n",
       "      <td>214.785714</td>\n",
       "      <td>250.583333</td>\n",
       "      <td>MG</td>\n",
       "      <td>Japonvar</td>\n",
       "      <td>Região Sudeste</td>\n",
       "      <td>35.797619</td>\n",
       "    </tr>\n",
       "  </tbody>\n",
       "</table>\n",
       "</div>"
      ],
      "text/plain": [
       "   index  ID  Target  GrupoEconomico    Sexo  Idade  GrupoRisco  \\\n",
       "0      1   2       1               1  mulher     38           1   \n",
       "1      2   3       1               3  mulher     26           0   \n",
       "2      3   4       1               1  mulher     35           1   \n",
       "3      8   9       1               3  mulher     27           0   \n",
       "4      9  10       1               2  mulher     14           1   \n",
       "\n",
       "   ValorCompraAnual     GastoMax   GastoMedio  UF  CidadeResidencia  \\\n",
       "0           71283.0  5091.642857  5940.250000  RN  Marcelino Vieira   \n",
       "1            7925.0   566.071429   660.416667  PR     Agudos do Sul   \n",
       "2             531.0    37.928571    44.250000  PR      Congonhinhas   \n",
       "3           11133.0   795.214286   927.750000  MG        Comercinho   \n",
       "4            3007.0   214.785714   250.583333  MG          Japonvar   \n",
       "\n",
       "      RegiaodoPais  NumeroComprasOnline  \n",
       "0  Região Nordeste           312.644737  \n",
       "1       Região Sul            50.801282  \n",
       "2       Região Sul             2.528571  \n",
       "3   Região Sudeste            68.722222  \n",
       "4   Região Sudeste            35.797619  "
      ]
     },
     "execution_count": 48,
     "metadata": {},
     "output_type": "execute_result"
    }
   ],
   "source": [
    "query = '''\n",
    "SELECT *\n",
    "FROM AtrasoCartaoCredito\n",
    "WHERE Sexo <> 'homem'\n",
    "LIMIT 5\n",
    "'''\n",
    "\n",
    "pd.read_sql_query(query, engine)"
   ]
  },
  {
   "cell_type": "markdown",
   "metadata": {},
   "source": [
    "### DISTINCT"
   ]
  },
  {
   "cell_type": "markdown",
   "metadata": {},
   "source": [
    "- Podemos analisar os valores únicos de uma coluna"
   ]
  },
  {
   "cell_type": "code",
   "execution_count": 50,
   "metadata": {
    "ExecuteTime": {
     "end_time": "2021-07-06T22:37:36.688161Z",
     "start_time": "2021-07-06T22:37:36.191256Z"
    }
   },
   "outputs": [
    {
     "data": {
      "text/html": [
       "<div>\n",
       "<style scoped>\n",
       "    .dataframe tbody tr th:only-of-type {\n",
       "        vertical-align: middle;\n",
       "    }\n",
       "\n",
       "    .dataframe tbody tr th {\n",
       "        vertical-align: top;\n",
       "    }\n",
       "\n",
       "    .dataframe thead th {\n",
       "        text-align: right;\n",
       "    }\n",
       "</style>\n",
       "<table border=\"1\" class=\"dataframe\">\n",
       "  <thead>\n",
       "    <tr style=\"text-align: right;\">\n",
       "      <th></th>\n",
       "      <th>GrupoEconomico</th>\n",
       "    </tr>\n",
       "  </thead>\n",
       "  <tbody>\n",
       "    <tr>\n",
       "      <th>0</th>\n",
       "      <td>3</td>\n",
       "    </tr>\n",
       "    <tr>\n",
       "      <th>1</th>\n",
       "      <td>1</td>\n",
       "    </tr>\n",
       "    <tr>\n",
       "      <th>2</th>\n",
       "      <td>2</td>\n",
       "    </tr>\n",
       "  </tbody>\n",
       "</table>\n",
       "</div>"
      ],
      "text/plain": [
       "   GrupoEconomico\n",
       "0               3\n",
       "1               1\n",
       "2               2"
      ]
     },
     "execution_count": 50,
     "metadata": {},
     "output_type": "execute_result"
    }
   ],
   "source": [
    "query = '''\n",
    "SELECT DISTINCT GrupoEconomico\n",
    "FROM AtrasoCartaoCredito\n",
    "\n",
    "'''\n",
    "\n",
    "pd.read_sql_query(query, engine)"
   ]
  },
  {
   "cell_type": "markdown",
   "metadata": {},
   "source": [
    "### GROUP BY"
   ]
  },
  {
   "cell_type": "markdown",
   "metadata": {
    "ExecuteTime": {
     "end_time": "2021-07-05T22:53:49.356732Z",
     "start_time": "2021-07-05T22:53:49.340730Z"
    }
   },
   "source": [
    "- Podemos agrupar a tabela por uma chave e sumarizar os valores \n",
    "- Por exemplo, podemos analisar o número de cada `product_category` \n",
    "- `GROUP BY` sempre está acompanhando de alguma função de agregação: `COUNT()`, `SUM()`, `AVG()`"
   ]
  },
  {
   "cell_type": "code",
   "execution_count": 51,
   "metadata": {
    "ExecuteTime": {
     "end_time": "2021-07-06T22:37:59.387935Z",
     "start_time": "2021-07-06T22:37:58.900367Z"
    }
   },
   "outputs": [
    {
     "data": {
      "text/html": [
       "<div>\n",
       "<style scoped>\n",
       "    .dataframe tbody tr th:only-of-type {\n",
       "        vertical-align: middle;\n",
       "    }\n",
       "\n",
       "    .dataframe tbody tr th {\n",
       "        vertical-align: top;\n",
       "    }\n",
       "\n",
       "    .dataframe thead th {\n",
       "        text-align: right;\n",
       "    }\n",
       "</style>\n",
       "<table border=\"1\" class=\"dataframe\">\n",
       "  <thead>\n",
       "    <tr style=\"text-align: right;\">\n",
       "      <th></th>\n",
       "      <th>GrupoEconomico</th>\n",
       "      <th>COUNT(*)</th>\n",
       "    </tr>\n",
       "  </thead>\n",
       "  <tbody>\n",
       "    <tr>\n",
       "      <th>0</th>\n",
       "      <td>3</td>\n",
       "      <td>491</td>\n",
       "    </tr>\n",
       "    <tr>\n",
       "      <th>1</th>\n",
       "      <td>1</td>\n",
       "      <td>216</td>\n",
       "    </tr>\n",
       "    <tr>\n",
       "      <th>2</th>\n",
       "      <td>2</td>\n",
       "      <td>184</td>\n",
       "    </tr>\n",
       "  </tbody>\n",
       "</table>\n",
       "</div>"
      ],
      "text/plain": [
       "   GrupoEconomico  COUNT(*)\n",
       "0               3       491\n",
       "1               1       216\n",
       "2               2       184"
      ]
     },
     "execution_count": 51,
     "metadata": {},
     "output_type": "execute_result"
    }
   ],
   "source": [
    "query = '''\n",
    "\n",
    "SELECT GrupoEconomico, COUNT(*)\n",
    "FROM AtrasoCartaoCredito \n",
    "GROUP BY GrupoEconomico\n",
    "\n",
    "'''\n",
    "\n",
    "pd.read_sql_query(query, engine)"
   ]
  },
  {
   "cell_type": "markdown",
   "metadata": {},
   "source": [
    "### ORDER BY"
   ]
  },
  {
   "cell_type": "markdown",
   "metadata": {},
   "source": [
    "Podemos ordernar a consulta por alguma coluna com `ORDER BY` em ordem crescente"
   ]
  },
  {
   "cell_type": "code",
   "execution_count": 52,
   "metadata": {
    "ExecuteTime": {
     "end_time": "2021-07-06T22:38:15.303784Z",
     "start_time": "2021-07-06T22:38:14.816783Z"
    }
   },
   "outputs": [
    {
     "data": {
      "text/html": [
       "<div>\n",
       "<style scoped>\n",
       "    .dataframe tbody tr th:only-of-type {\n",
       "        vertical-align: middle;\n",
       "    }\n",
       "\n",
       "    .dataframe tbody tr th {\n",
       "        vertical-align: top;\n",
       "    }\n",
       "\n",
       "    .dataframe thead th {\n",
       "        text-align: right;\n",
       "    }\n",
       "</style>\n",
       "<table border=\"1\" class=\"dataframe\">\n",
       "  <thead>\n",
       "    <tr style=\"text-align: right;\">\n",
       "      <th></th>\n",
       "      <th>GrupoEconomico</th>\n",
       "      <th>COUNT(*)</th>\n",
       "    </tr>\n",
       "  </thead>\n",
       "  <tbody>\n",
       "    <tr>\n",
       "      <th>0</th>\n",
       "      <td>1</td>\n",
       "      <td>216</td>\n",
       "    </tr>\n",
       "    <tr>\n",
       "      <th>1</th>\n",
       "      <td>2</td>\n",
       "      <td>184</td>\n",
       "    </tr>\n",
       "    <tr>\n",
       "      <th>2</th>\n",
       "      <td>3</td>\n",
       "      <td>491</td>\n",
       "    </tr>\n",
       "  </tbody>\n",
       "</table>\n",
       "</div>"
      ],
      "text/plain": [
       "   GrupoEconomico  COUNT(*)\n",
       "0               1       216\n",
       "1               2       184\n",
       "2               3       491"
      ]
     },
     "execution_count": 52,
     "metadata": {},
     "output_type": "execute_result"
    }
   ],
   "source": [
    "query = '''\n",
    "\n",
    "SELECT GrupoEconomico, COUNT(*)\n",
    "FROM AtrasoCartaoCredito \n",
    "GROUP BY GrupoEconomico\n",
    "ORDER BY GrupoEconomico\n",
    "\n",
    "'''\n",
    "\n",
    "pd.read_sql_query(query, engine)"
   ]
  },
  {
   "cell_type": "markdown",
   "metadata": {},
   "source": [
    "- Ou em ordem descrescente\n",
    "- Também podemos renomear a coluna com o alias `AS`"
   ]
  },
  {
   "cell_type": "code",
   "execution_count": 53,
   "metadata": {
    "ExecuteTime": {
     "end_time": "2021-07-06T22:38:37.493094Z",
     "start_time": "2021-07-06T22:38:37.009142Z"
    }
   },
   "outputs": [
    {
     "data": {
      "text/html": [
       "<div>\n",
       "<style scoped>\n",
       "    .dataframe tbody tr th:only-of-type {\n",
       "        vertical-align: middle;\n",
       "    }\n",
       "\n",
       "    .dataframe tbody tr th {\n",
       "        vertical-align: top;\n",
       "    }\n",
       "\n",
       "    .dataframe thead th {\n",
       "        text-align: right;\n",
       "    }\n",
       "</style>\n",
       "<table border=\"1\" class=\"dataframe\">\n",
       "  <thead>\n",
       "    <tr style=\"text-align: right;\">\n",
       "      <th></th>\n",
       "      <th>GrupoEconomico</th>\n",
       "      <th>num_GrupoEconomico</th>\n",
       "    </tr>\n",
       "  </thead>\n",
       "  <tbody>\n",
       "    <tr>\n",
       "      <th>0</th>\n",
       "      <td>3</td>\n",
       "      <td>491</td>\n",
       "    </tr>\n",
       "    <tr>\n",
       "      <th>1</th>\n",
       "      <td>2</td>\n",
       "      <td>184</td>\n",
       "    </tr>\n",
       "    <tr>\n",
       "      <th>2</th>\n",
       "      <td>1</td>\n",
       "      <td>216</td>\n",
       "    </tr>\n",
       "  </tbody>\n",
       "</table>\n",
       "</div>"
      ],
      "text/plain": [
       "   GrupoEconomico  num_GrupoEconomico\n",
       "0               3                 491\n",
       "1               2                 184\n",
       "2               1                 216"
      ]
     },
     "execution_count": 53,
     "metadata": {},
     "output_type": "execute_result"
    }
   ],
   "source": [
    "query = '''\n",
    "\n",
    "SELECT GrupoEconomico, COUNT(*) AS num_GrupoEconomico\n",
    "FROM AtrasoCartaoCredito \n",
    "GROUP BY GrupoEconomico\n",
    "ORDER BY GrupoEconomico DESC\n",
    "\n",
    "'''\n",
    "\n",
    "pd.read_sql_query(query, engine)"
   ]
  },
  {
   "cell_type": "markdown",
   "metadata": {},
   "source": [
    "### HAVING"
   ]
  },
  {
   "cell_type": "markdown",
   "metadata": {},
   "source": [
    "Quando queremos aplicar um filtro após fazer o `GROUP BY`, usamos o comando `HAVING`"
   ]
  },
  {
   "cell_type": "code",
   "execution_count": 54,
   "metadata": {
    "ExecuteTime": {
     "end_time": "2021-07-06T22:39:06.765174Z",
     "start_time": "2021-07-06T22:39:06.283118Z"
    }
   },
   "outputs": [
    {
     "data": {
      "text/html": [
       "<div>\n",
       "<style scoped>\n",
       "    .dataframe tbody tr th:only-of-type {\n",
       "        vertical-align: middle;\n",
       "    }\n",
       "\n",
       "    .dataframe tbody tr th {\n",
       "        vertical-align: top;\n",
       "    }\n",
       "\n",
       "    .dataframe thead th {\n",
       "        text-align: right;\n",
       "    }\n",
       "</style>\n",
       "<table border=\"1\" class=\"dataframe\">\n",
       "  <thead>\n",
       "    <tr style=\"text-align: right;\">\n",
       "      <th></th>\n",
       "      <th>GrupoEconomico</th>\n",
       "      <th>num_GrupoEconomico</th>\n",
       "    </tr>\n",
       "  </thead>\n",
       "  <tbody>\n",
       "    <tr>\n",
       "      <th>0</th>\n",
       "      <td>3</td>\n",
       "      <td>491</td>\n",
       "    </tr>\n",
       "    <tr>\n",
       "      <th>1</th>\n",
       "      <td>1</td>\n",
       "      <td>216</td>\n",
       "    </tr>\n",
       "  </tbody>\n",
       "</table>\n",
       "</div>"
      ],
      "text/plain": [
       "   GrupoEconomico  num_GrupoEconomico\n",
       "0               3                 491\n",
       "1               1                 216"
      ]
     },
     "execution_count": 54,
     "metadata": {},
     "output_type": "execute_result"
    }
   ],
   "source": [
    "query = '''\n",
    "\n",
    "SELECT GrupoEconomico, COUNT(*) AS num_GrupoEconomico\n",
    "FROM AtrasoCartaoCredito \n",
    "GROUP BY GrupoEconomico\n",
    "HAVING COUNT(*) > 200\n",
    "\n",
    "'''\n",
    "\n",
    "pd.read_sql_query(query, engine)"
   ]
  }
 ],
 "metadata": {
  "hide_input": false,
  "kernelspec": {
   "display_name": "Python 3",
   "language": "python",
   "name": "python3"
  },
  "language_info": {
   "codemirror_mode": {
    "name": "ipython",
    "version": 3
   },
   "file_extension": ".py",
   "mimetype": "text/x-python",
   "name": "python",
   "nbconvert_exporter": "python",
   "pygments_lexer": "ipython3",
   "version": "3.8.3"
  },
  "toc": {
   "base_numbering": 1,
   "nav_menu": {},
   "number_sections": true,
   "sideBar": true,
   "skip_h1_title": false,
   "title_cell": "Table of Contents",
   "title_sidebar": "Contents",
   "toc_cell": false,
   "toc_position": {},
   "toc_section_display": true,
   "toc_window_display": true
  },
  "varInspector": {
   "cols": {
    "lenName": 16,
    "lenType": 16,
    "lenVar": 40
   },
   "kernels_config": {
    "python": {
     "delete_cmd_postfix": "",
     "delete_cmd_prefix": "del ",
     "library": "var_list.py",
     "varRefreshCmd": "print(var_dic_list())"
    },
    "r": {
     "delete_cmd_postfix": ") ",
     "delete_cmd_prefix": "rm(",
     "library": "var_list.r",
     "varRefreshCmd": "cat(var_dic_list()) "
    }
   },
   "types_to_exclude": [
    "module",
    "function",
    "builtin_function_or_method",
    "instance",
    "_Feature"
   ],
   "window_display": false
  }
 },
 "nbformat": 4,
 "nbformat_minor": 2
}
