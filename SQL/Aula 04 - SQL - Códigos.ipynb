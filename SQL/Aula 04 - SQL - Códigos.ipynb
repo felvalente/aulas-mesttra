{
 "cells": [
  {
   "cell_type": "markdown",
   "metadata": {},
   "source": [
    "# Aula 4: SQL"
   ]
  },
  {
   "cell_type": "markdown",
   "metadata": {},
   "source": [
    "## Introdução"
   ]
  },
  {
   "cell_type": "markdown",
   "metadata": {},
   "source": [
    "Nesta aula veremos as principais queries de consulta em sql"
   ]
  },
  {
   "cell_type": "markdown",
   "metadata": {},
   "source": [
    "## Conexao no db4free via sqlalchemy"
   ]
  },
  {
   "cell_type": "code",
   "execution_count": 1,
   "metadata": {
    "ExecuteTime": {
     "end_time": "2021-07-22T23:08:06.081938Z",
     "start_time": "2021-07-22T23:08:04.011447Z"
    }
   },
   "outputs": [],
   "source": [
    "import yaml\n",
    "import sqlalchemy\n",
    "import pandas as pd\n",
    "from pandasql import sqldf"
   ]
  },
  {
   "cell_type": "code",
   "execution_count": 2,
   "metadata": {
    "ExecuteTime": {
     "end_time": "2021-07-22T23:08:06.143938Z",
     "start_time": "2021-07-22T23:08:06.116941Z"
    }
   },
   "outputs": [],
   "source": [
    "# Load SQL credentials\n",
    "with open('credentials.yml', 'r') as file:\n",
    "    credentials = yaml.load(file, Loader=yaml.FullLoader)"
   ]
  },
  {
   "cell_type": "markdown",
   "metadata": {},
   "source": [
    "- A engine deve estar no formato:\n",
    "- mysql://`user`:`password`@`host`:`port`/`database`"
   ]
  },
  {
   "cell_type": "code",
   "execution_count": 3,
   "metadata": {
    "ExecuteTime": {
     "end_time": "2021-07-22T23:08:10.062474Z",
     "start_time": "2021-07-22T23:08:09.859183Z"
    },
    "scrolled": true
   },
   "outputs": [],
   "source": [
    "engine = sqlalchemy.create_engine(f'mysql://{credentials[\"user\"]}:{credentials[\"password\"]}@{credentials[\"host\"]}:{credentials[\"port\"]}/{credentials[\"database\"]}') # connect to server"
   ]
  },
  {
   "cell_type": "markdown",
   "metadata": {},
   "source": [
    "## GROUP BY"
   ]
  },
  {
   "cell_type": "markdown",
   "metadata": {
    "ExecuteTime": {
     "end_time": "2021-07-05T22:53:49.356732Z",
     "start_time": "2021-07-05T22:53:49.340730Z"
    }
   },
   "source": [
    "- Podemos agrupar a tabela por uma chave e sumarizar os valores \n",
    "- Por exemplo, podemos analisar o número de cada `product_category` \n",
    "- `GROUP BY` sempre está acompanhando de alguma função de agregação: `COUNT()`, `SUM()`, `AVG()`"
   ]
  },
  {
   "cell_type": "code",
   "execution_count": 6,
   "metadata": {
    "ExecuteTime": {
     "end_time": "2021-07-22T23:09:32.265406Z",
     "start_time": "2021-07-22T23:09:32.255404Z"
    }
   },
   "outputs": [],
   "source": [
    "import os"
   ]
  },
  {
   "cell_type": "code",
   "execution_count": 7,
   "metadata": {
    "ExecuteTime": {
     "end_time": "2021-07-22T23:09:36.867581Z",
     "start_time": "2021-07-22T23:09:36.842577Z"
    }
   },
   "outputs": [
    {
     "data": {
      "text/plain": [
       "['.ipynb_checkpoints',\n",
       " 'AtrasoCartaoCredito.csv',\n",
       " 'Aula 01 - SQL - Códigos.ipynb',\n",
       " 'Aula 01 - SQL.ipynb',\n",
       " 'Aula 02 - SQL - Códigos.ipynb',\n",
       " 'Aula 02 - SQL - Exercícios.ipynb',\n",
       " 'Aula 02 - SQL.ipynb',\n",
       " 'Aula 03 - SQL - Códigos.ipynb',\n",
       " 'Aula 03 - SQL - Exercícios (Gabarito).ipynb',\n",
       " 'Aula 03 - SQL - Exercícios.ipynb',\n",
       " 'Aula 03 - SQL.ipynb',\n",
       " 'Aula 04 - SQL - Códigos.ipynb',\n",
       " 'Aula 04 - SQL - Exercícios (Gabarito).ipynb',\n",
       " 'Aula 04 - SQL - Exercícios.ipynb',\n",
       " 'Aula 04 - SQL.ipynb',\n",
       " 'Aula 05 - SQL TODO subquery.ipynb',\n",
       " 'credentials.yml',\n",
       " 'DS.JPG',\n",
       " 'Exercicios SQL - Semana 01.docx',\n",
       " 'Plano de aula - SQL.docx',\n",
       " 'salesOlist.db']"
      ]
     },
     "execution_count": 7,
     "metadata": {},
     "output_type": "execute_result"
    }
   ],
   "source": [
    "os.listdir()"
   ]
  },
  {
   "cell_type": "code",
   "execution_count": 4,
   "metadata": {
    "ExecuteTime": {
     "end_time": "2021-07-22T23:08:28.826452Z",
     "start_time": "2021-07-22T23:08:28.777457Z"
    }
   },
   "outputs": [],
   "source": [
    "AtrasoCartaoCredito = pd.read_csv('AtrasoCartaoCredito.csv')"
   ]
  },
  {
   "cell_type": "code",
   "execution_count": 5,
   "metadata": {
    "ExecuteTime": {
     "end_time": "2021-07-22T23:09:18.645640Z",
     "start_time": "2021-07-22T23:09:18.557489Z"
    }
   },
   "outputs": [
    {
     "data": {
      "text/html": [
       "<div>\n",
       "<style scoped>\n",
       "    .dataframe tbody tr th:only-of-type {\n",
       "        vertical-align: middle;\n",
       "    }\n",
       "\n",
       "    .dataframe tbody tr th {\n",
       "        vertical-align: top;\n",
       "    }\n",
       "\n",
       "    .dataframe thead th {\n",
       "        text-align: right;\n",
       "    }\n",
       "</style>\n",
       "<table border=\"1\" class=\"dataframe\">\n",
       "  <thead>\n",
       "    <tr style=\"text-align: right;\">\n",
       "      <th></th>\n",
       "      <th>ID</th>\n",
       "      <th>Target</th>\n",
       "      <th>GrupoEconomico</th>\n",
       "      <th>Sexo</th>\n",
       "      <th>Idade</th>\n",
       "      <th>GrupoRisco</th>\n",
       "      <th>ValorCompraAnual</th>\n",
       "      <th>GastoMax</th>\n",
       "      <th>GastoMedio</th>\n",
       "      <th>UF</th>\n",
       "      <th>CidadeResidencia</th>\n",
       "      <th>RegiaodoPais</th>\n",
       "      <th>NumeroComprasOnline</th>\n",
       "    </tr>\n",
       "  </thead>\n",
       "  <tbody>\n",
       "    <tr>\n",
       "      <th>0</th>\n",
       "      <td>1</td>\n",
       "      <td>0</td>\n",
       "      <td>3</td>\n",
       "      <td>homem</td>\n",
       "      <td>22</td>\n",
       "      <td>1</td>\n",
       "      <td>7250.0</td>\n",
       "      <td>517.857143</td>\n",
       "      <td>604.166667</td>\n",
       "      <td>MG</td>\n",
       "      <td>Morada Nova de Minas</td>\n",
       "      <td>Região Sudeste</td>\n",
       "      <td>54.924242</td>\n",
       "    </tr>\n",
       "    <tr>\n",
       "      <th>1</th>\n",
       "      <td>2</td>\n",
       "      <td>1</td>\n",
       "      <td>1</td>\n",
       "      <td>mulher</td>\n",
       "      <td>38</td>\n",
       "      <td>1</td>\n",
       "      <td>71283.0</td>\n",
       "      <td>5091.642857</td>\n",
       "      <td>5940.250000</td>\n",
       "      <td>RN</td>\n",
       "      <td>Marcelino Vieira</td>\n",
       "      <td>Região Nordeste</td>\n",
       "      <td>312.644737</td>\n",
       "    </tr>\n",
       "    <tr>\n",
       "      <th>2</th>\n",
       "      <td>3</td>\n",
       "      <td>1</td>\n",
       "      <td>3</td>\n",
       "      <td>mulher</td>\n",
       "      <td>26</td>\n",
       "      <td>0</td>\n",
       "      <td>7925.0</td>\n",
       "      <td>566.071429</td>\n",
       "      <td>660.416667</td>\n",
       "      <td>PR</td>\n",
       "      <td>Agudos do Sul</td>\n",
       "      <td>Região Sul</td>\n",
       "      <td>50.801282</td>\n",
       "    </tr>\n",
       "    <tr>\n",
       "      <th>3</th>\n",
       "      <td>4</td>\n",
       "      <td>1</td>\n",
       "      <td>1</td>\n",
       "      <td>mulher</td>\n",
       "      <td>35</td>\n",
       "      <td>1</td>\n",
       "      <td>531.0</td>\n",
       "      <td>37.928571</td>\n",
       "      <td>44.250000</td>\n",
       "      <td>PR</td>\n",
       "      <td>Congonhinhas</td>\n",
       "      <td>Região Sul</td>\n",
       "      <td>2.528571</td>\n",
       "    </tr>\n",
       "    <tr>\n",
       "      <th>4</th>\n",
       "      <td>5</td>\n",
       "      <td>0</td>\n",
       "      <td>3</td>\n",
       "      <td>homem</td>\n",
       "      <td>35</td>\n",
       "      <td>0</td>\n",
       "      <td>805.0</td>\n",
       "      <td>57.500000</td>\n",
       "      <td>67.083333</td>\n",
       "      <td>BA</td>\n",
       "      <td>Morpará</td>\n",
       "      <td>Região Nordeste</td>\n",
       "      <td>3.833333</td>\n",
       "    </tr>\n",
       "  </tbody>\n",
       "</table>\n",
       "</div>"
      ],
      "text/plain": [
       "   ID  Target  GrupoEconomico    Sexo  Idade  GrupoRisco  ValorCompraAnual  \\\n",
       "0   1       0               3   homem     22           1            7250.0   \n",
       "1   2       1               1  mulher     38           1           71283.0   \n",
       "2   3       1               3  mulher     26           0            7925.0   \n",
       "3   4       1               1  mulher     35           1             531.0   \n",
       "4   5       0               3   homem     35           0             805.0   \n",
       "\n",
       "      GastoMax   GastoMedio  UF      CidadeResidencia     RegiaodoPais  \\\n",
       "0   517.857143   604.166667  MG  Morada Nova de Minas   Região Sudeste   \n",
       "1  5091.642857  5940.250000  RN      Marcelino Vieira  Região Nordeste   \n",
       "2   566.071429   660.416667  PR         Agudos do Sul       Região Sul   \n",
       "3    37.928571    44.250000  PR          Congonhinhas       Região Sul   \n",
       "4    57.500000    67.083333  BA               Morpará  Região Nordeste   \n",
       "\n",
       "   NumeroComprasOnline  \n",
       "0            54.924242  \n",
       "1           312.644737  \n",
       "2            50.801282  \n",
       "3             2.528571  \n",
       "4             3.833333  "
      ]
     },
     "execution_count": 5,
     "metadata": {},
     "output_type": "execute_result"
    }
   ],
   "source": [
    "AtrasoCartaoCredito.head()"
   ]
  },
  {
   "cell_type": "code",
   "execution_count": 13,
   "metadata": {
    "ExecuteTime": {
     "end_time": "2021-07-22T23:13:54.424509Z",
     "start_time": "2021-07-22T23:13:54.402289Z"
    }
   },
   "outputs": [
    {
     "data": {
      "text/plain": [
       "1    216\n",
       "2    184\n",
       "3    491\n",
       "Name: GrupoEconomico, dtype: int64"
      ]
     },
     "execution_count": 13,
     "metadata": {},
     "output_type": "execute_result"
    }
   ],
   "source": [
    "AtrasoCartaoCredito['GrupoEconomico'].value_counts().sort_index()"
   ]
  },
  {
   "cell_type": "code",
   "execution_count": 11,
   "metadata": {
    "ExecuteTime": {
     "end_time": "2021-07-22T23:13:25.112666Z",
     "start_time": "2021-07-22T23:13:25.043474Z"
    }
   },
   "outputs": [
    {
     "data": {
      "text/html": [
       "<div>\n",
       "<style scoped>\n",
       "    .dataframe tbody tr th:only-of-type {\n",
       "        vertical-align: middle;\n",
       "    }\n",
       "\n",
       "    .dataframe tbody tr th {\n",
       "        vertical-align: top;\n",
       "    }\n",
       "\n",
       "    .dataframe thead th {\n",
       "        text-align: right;\n",
       "    }\n",
       "</style>\n",
       "<table border=\"1\" class=\"dataframe\">\n",
       "  <thead>\n",
       "    <tr style=\"text-align: right;\">\n",
       "      <th></th>\n",
       "      <th>GrupoEconomico</th>\n",
       "      <th>num_grupo_economico</th>\n",
       "    </tr>\n",
       "  </thead>\n",
       "  <tbody>\n",
       "    <tr>\n",
       "      <th>0</th>\n",
       "      <td>1</td>\n",
       "      <td>216</td>\n",
       "    </tr>\n",
       "    <tr>\n",
       "      <th>1</th>\n",
       "      <td>2</td>\n",
       "      <td>184</td>\n",
       "    </tr>\n",
       "    <tr>\n",
       "      <th>2</th>\n",
       "      <td>3</td>\n",
       "      <td>491</td>\n",
       "    </tr>\n",
       "  </tbody>\n",
       "</table>\n",
       "</div>"
      ],
      "text/plain": [
       "   GrupoEconomico  num_grupo_economico\n",
       "0               1                  216\n",
       "1               2                  184\n",
       "2               3                  491"
      ]
     },
     "execution_count": 11,
     "metadata": {},
     "output_type": "execute_result"
    }
   ],
   "source": [
    "query = '''\n",
    "    SELECT GrupoEconomico, COUNT(*) AS num_grupo_economico\n",
    "    FROM AtrasoCartaoCredito\n",
    "    GROUP BY GrupoEconomico\n",
    "'''\n",
    "\n",
    "sqldf(query)"
   ]
  },
  {
   "cell_type": "markdown",
   "metadata": {},
   "source": [
    "## ORDER BY"
   ]
  },
  {
   "cell_type": "markdown",
   "metadata": {},
   "source": [
    "Podemos ordernar a consulta por alguma coluna com `ORDER BY` em ordem crescente"
   ]
  },
  {
   "cell_type": "code",
   "execution_count": 14,
   "metadata": {
    "ExecuteTime": {
     "end_time": "2021-07-22T23:14:27.675492Z",
     "start_time": "2021-07-22T23:14:27.555568Z"
    }
   },
   "outputs": [
    {
     "data": {
      "text/html": [
       "<div>\n",
       "<style scoped>\n",
       "    .dataframe tbody tr th:only-of-type {\n",
       "        vertical-align: middle;\n",
       "    }\n",
       "\n",
       "    .dataframe tbody tr th {\n",
       "        vertical-align: top;\n",
       "    }\n",
       "\n",
       "    .dataframe thead th {\n",
       "        text-align: right;\n",
       "    }\n",
       "</style>\n",
       "<table border=\"1\" class=\"dataframe\">\n",
       "  <thead>\n",
       "    <tr style=\"text-align: right;\">\n",
       "      <th></th>\n",
       "      <th>GrupoEconomico</th>\n",
       "      <th>num_grupo_economico</th>\n",
       "    </tr>\n",
       "  </thead>\n",
       "  <tbody>\n",
       "    <tr>\n",
       "      <th>0</th>\n",
       "      <td>1</td>\n",
       "      <td>216</td>\n",
       "    </tr>\n",
       "    <tr>\n",
       "      <th>1</th>\n",
       "      <td>2</td>\n",
       "      <td>184</td>\n",
       "    </tr>\n",
       "    <tr>\n",
       "      <th>2</th>\n",
       "      <td>3</td>\n",
       "      <td>491</td>\n",
       "    </tr>\n",
       "  </tbody>\n",
       "</table>\n",
       "</div>"
      ],
      "text/plain": [
       "   GrupoEconomico  num_grupo_economico\n",
       "0               1                  216\n",
       "1               2                  184\n",
       "2               3                  491"
      ]
     },
     "execution_count": 14,
     "metadata": {},
     "output_type": "execute_result"
    }
   ],
   "source": [
    "query = '''\n",
    "    SELECT GrupoEconomico, COUNT(*) AS num_grupo_economico\n",
    "    FROM AtrasoCartaoCredito\n",
    "    GROUP BY GrupoEconomico\n",
    "    ORDER BY GrupoEconomico\n",
    "'''\n",
    "\n",
    "sqldf(query)"
   ]
  },
  {
   "cell_type": "markdown",
   "metadata": {},
   "source": [
    "- Ou em ordem descrescente\n",
    "- Também podemos renomear a coluna com o alias `AS`"
   ]
  },
  {
   "cell_type": "code",
   "execution_count": 16,
   "metadata": {
    "ExecuteTime": {
     "end_time": "2021-07-22T23:15:06.499818Z",
     "start_time": "2021-07-22T23:15:06.436715Z"
    }
   },
   "outputs": [
    {
     "data": {
      "text/html": [
       "<div>\n",
       "<style scoped>\n",
       "    .dataframe tbody tr th:only-of-type {\n",
       "        vertical-align: middle;\n",
       "    }\n",
       "\n",
       "    .dataframe tbody tr th {\n",
       "        vertical-align: top;\n",
       "    }\n",
       "\n",
       "    .dataframe thead th {\n",
       "        text-align: right;\n",
       "    }\n",
       "</style>\n",
       "<table border=\"1\" class=\"dataframe\">\n",
       "  <thead>\n",
       "    <tr style=\"text-align: right;\">\n",
       "      <th></th>\n",
       "      <th>ID</th>\n",
       "      <th>Target</th>\n",
       "      <th>GrupoEconomico</th>\n",
       "      <th>Sexo</th>\n",
       "      <th>Idade</th>\n",
       "      <th>GrupoRisco</th>\n",
       "      <th>ValorCompraAnual</th>\n",
       "      <th>GastoMax</th>\n",
       "      <th>GastoMedio</th>\n",
       "      <th>UF</th>\n",
       "      <th>CidadeResidencia</th>\n",
       "      <th>RegiaodoPais</th>\n",
       "      <th>NumeroComprasOnline</th>\n",
       "    </tr>\n",
       "  </thead>\n",
       "  <tbody>\n",
       "    <tr>\n",
       "      <th>0</th>\n",
       "      <td>1</td>\n",
       "      <td>0</td>\n",
       "      <td>3</td>\n",
       "      <td>homem</td>\n",
       "      <td>22</td>\n",
       "      <td>1</td>\n",
       "      <td>7250.0</td>\n",
       "      <td>517.857143</td>\n",
       "      <td>604.166667</td>\n",
       "      <td>MG</td>\n",
       "      <td>Morada Nova de Minas</td>\n",
       "      <td>Região Sudeste</td>\n",
       "      <td>54.924242</td>\n",
       "    </tr>\n",
       "    <tr>\n",
       "      <th>1</th>\n",
       "      <td>2</td>\n",
       "      <td>1</td>\n",
       "      <td>1</td>\n",
       "      <td>mulher</td>\n",
       "      <td>38</td>\n",
       "      <td>1</td>\n",
       "      <td>71283.0</td>\n",
       "      <td>5091.642857</td>\n",
       "      <td>5940.250000</td>\n",
       "      <td>RN</td>\n",
       "      <td>Marcelino Vieira</td>\n",
       "      <td>Região Nordeste</td>\n",
       "      <td>312.644737</td>\n",
       "    </tr>\n",
       "    <tr>\n",
       "      <th>2</th>\n",
       "      <td>3</td>\n",
       "      <td>1</td>\n",
       "      <td>3</td>\n",
       "      <td>mulher</td>\n",
       "      <td>26</td>\n",
       "      <td>0</td>\n",
       "      <td>7925.0</td>\n",
       "      <td>566.071429</td>\n",
       "      <td>660.416667</td>\n",
       "      <td>PR</td>\n",
       "      <td>Agudos do Sul</td>\n",
       "      <td>Região Sul</td>\n",
       "      <td>50.801282</td>\n",
       "    </tr>\n",
       "  </tbody>\n",
       "</table>\n",
       "</div>"
      ],
      "text/plain": [
       "   ID  Target  GrupoEconomico    Sexo  Idade  GrupoRisco  ValorCompraAnual  \\\n",
       "0   1       0               3   homem     22           1            7250.0   \n",
       "1   2       1               1  mulher     38           1           71283.0   \n",
       "2   3       1               3  mulher     26           0            7925.0   \n",
       "\n",
       "      GastoMax   GastoMedio  UF      CidadeResidencia     RegiaodoPais  \\\n",
       "0   517.857143   604.166667  MG  Morada Nova de Minas   Região Sudeste   \n",
       "1  5091.642857  5940.250000  RN      Marcelino Vieira  Região Nordeste   \n",
       "2   566.071429   660.416667  PR         Agudos do Sul       Região Sul   \n",
       "\n",
       "   NumeroComprasOnline  \n",
       "0            54.924242  \n",
       "1           312.644737  \n",
       "2            50.801282  "
      ]
     },
     "execution_count": 16,
     "metadata": {},
     "output_type": "execute_result"
    }
   ],
   "source": [
    "AtrasoCartaoCredito.head(3)"
   ]
  },
  {
   "cell_type": "code",
   "execution_count": 19,
   "metadata": {
    "ExecuteTime": {
     "end_time": "2021-07-22T23:15:47.308383Z",
     "start_time": "2021-07-22T23:15:47.226589Z"
    }
   },
   "outputs": [
    {
     "data": {
      "text/html": [
       "<div>\n",
       "<style scoped>\n",
       "    .dataframe tbody tr th:only-of-type {\n",
       "        vertical-align: middle;\n",
       "    }\n",
       "\n",
       "    .dataframe tbody tr th {\n",
       "        vertical-align: top;\n",
       "    }\n",
       "\n",
       "    .dataframe thead th {\n",
       "        text-align: right;\n",
       "    }\n",
       "</style>\n",
       "<table border=\"1\" class=\"dataframe\">\n",
       "  <thead>\n",
       "    <tr style=\"text-align: right;\">\n",
       "      <th></th>\n",
       "      <th>GrupoEconomico</th>\n",
       "      <th>Sexo</th>\n",
       "      <th>freq</th>\n",
       "    </tr>\n",
       "  </thead>\n",
       "  <tbody>\n",
       "    <tr>\n",
       "      <th>0</th>\n",
       "      <td>3</td>\n",
       "      <td>homem</td>\n",
       "      <td>347</td>\n",
       "    </tr>\n",
       "    <tr>\n",
       "      <th>1</th>\n",
       "      <td>3</td>\n",
       "      <td>mulher</td>\n",
       "      <td>144</td>\n",
       "    </tr>\n",
       "    <tr>\n",
       "      <th>2</th>\n",
       "      <td>2</td>\n",
       "      <td>homem</td>\n",
       "      <td>108</td>\n",
       "    </tr>\n",
       "    <tr>\n",
       "      <th>3</th>\n",
       "      <td>2</td>\n",
       "      <td>mulher</td>\n",
       "      <td>76</td>\n",
       "    </tr>\n",
       "    <tr>\n",
       "      <th>4</th>\n",
       "      <td>1</td>\n",
       "      <td>homem</td>\n",
       "      <td>122</td>\n",
       "    </tr>\n",
       "    <tr>\n",
       "      <th>5</th>\n",
       "      <td>1</td>\n",
       "      <td>mulher</td>\n",
       "      <td>94</td>\n",
       "    </tr>\n",
       "  </tbody>\n",
       "</table>\n",
       "</div>"
      ],
      "text/plain": [
       "   GrupoEconomico    Sexo  freq\n",
       "0               3   homem   347\n",
       "1               3  mulher   144\n",
       "2               2   homem   108\n",
       "3               2  mulher    76\n",
       "4               1   homem   122\n",
       "5               1  mulher    94"
      ]
     },
     "execution_count": 19,
     "metadata": {},
     "output_type": "execute_result"
    }
   ],
   "source": [
    "query = '''\n",
    "    SELECT GrupoEconomico, Sexo, COUNT(*) AS freq\n",
    "    FROM AtrasoCartaoCredito\n",
    "    GROUP BY GrupoEconomico, Sexo\n",
    "    ORDER BY GrupoEconomico DESC\n",
    "'''\n",
    "\n",
    "sqldf(query)"
   ]
  },
  {
   "cell_type": "markdown",
   "metadata": {},
   "source": [
    "## HAVING"
   ]
  },
  {
   "cell_type": "markdown",
   "metadata": {},
   "source": [
    "Quando queremos aplicar um filtro após fazer o `GROUP BY`, usamos o comando `HAVING`"
   ]
  },
  {
   "cell_type": "code",
   "execution_count": 22,
   "metadata": {
    "ExecuteTime": {
     "end_time": "2021-07-22T23:18:44.627075Z",
     "start_time": "2021-07-22T23:18:44.481066Z"
    }
   },
   "outputs": [
    {
     "data": {
      "text/html": [
       "<div>\n",
       "<style scoped>\n",
       "    .dataframe tbody tr th:only-of-type {\n",
       "        vertical-align: middle;\n",
       "    }\n",
       "\n",
       "    .dataframe tbody tr th {\n",
       "        vertical-align: top;\n",
       "    }\n",
       "\n",
       "    .dataframe thead th {\n",
       "        text-align: right;\n",
       "    }\n",
       "</style>\n",
       "<table border=\"1\" class=\"dataframe\">\n",
       "  <thead>\n",
       "    <tr style=\"text-align: right;\">\n",
       "      <th></th>\n",
       "      <th>GrupoEconomico</th>\n",
       "      <th>Sexo</th>\n",
       "      <th>freq</th>\n",
       "    </tr>\n",
       "  </thead>\n",
       "  <tbody>\n",
       "    <tr>\n",
       "      <th>0</th>\n",
       "      <td>1</td>\n",
       "      <td>homem</td>\n",
       "      <td>122</td>\n",
       "    </tr>\n",
       "    <tr>\n",
       "      <th>1</th>\n",
       "      <td>1</td>\n",
       "      <td>mulher</td>\n",
       "      <td>94</td>\n",
       "    </tr>\n",
       "    <tr>\n",
       "      <th>2</th>\n",
       "      <td>2</td>\n",
       "      <td>homem</td>\n",
       "      <td>108</td>\n",
       "    </tr>\n",
       "    <tr>\n",
       "      <th>3</th>\n",
       "      <td>2</td>\n",
       "      <td>mulher</td>\n",
       "      <td>76</td>\n",
       "    </tr>\n",
       "    <tr>\n",
       "      <th>4</th>\n",
       "      <td>3</td>\n",
       "      <td>homem</td>\n",
       "      <td>347</td>\n",
       "    </tr>\n",
       "    <tr>\n",
       "      <th>5</th>\n",
       "      <td>3</td>\n",
       "      <td>mulher</td>\n",
       "      <td>144</td>\n",
       "    </tr>\n",
       "  </tbody>\n",
       "</table>\n",
       "</div>"
      ],
      "text/plain": [
       "   GrupoEconomico    Sexo  freq\n",
       "0               1   homem   122\n",
       "1               1  mulher    94\n",
       "2               2   homem   108\n",
       "3               2  mulher    76\n",
       "4               3   homem   347\n",
       "5               3  mulher   144"
      ]
     },
     "execution_count": 22,
     "metadata": {},
     "output_type": "execute_result"
    }
   ],
   "source": [
    "query = '''\n",
    "    SELECT GrupoEconomico, Sexo, COUNT(*) AS freq\n",
    "    FROM AtrasoCartaoCredito\n",
    "    GROUP BY GrupoEconomico, Sexo\n",
    "'''\n",
    "\n",
    "sqldf(query)"
   ]
  },
  {
   "cell_type": "code",
   "execution_count": 25,
   "metadata": {
    "ExecuteTime": {
     "end_time": "2021-07-22T23:22:06.025410Z",
     "start_time": "2021-07-22T23:22:05.916407Z"
    }
   },
   "outputs": [
    {
     "data": {
      "text/html": [
       "<div>\n",
       "<style scoped>\n",
       "    .dataframe tbody tr th:only-of-type {\n",
       "        vertical-align: middle;\n",
       "    }\n",
       "\n",
       "    .dataframe tbody tr th {\n",
       "        vertical-align: top;\n",
       "    }\n",
       "\n",
       "    .dataframe thead th {\n",
       "        text-align: right;\n",
       "    }\n",
       "</style>\n",
       "<table border=\"1\" class=\"dataframe\">\n",
       "  <thead>\n",
       "    <tr style=\"text-align: right;\">\n",
       "      <th></th>\n",
       "      <th>GrupoEconomico</th>\n",
       "      <th>Sexo</th>\n",
       "      <th>freq</th>\n",
       "    </tr>\n",
       "  </thead>\n",
       "  <tbody>\n",
       "    <tr>\n",
       "      <th>0</th>\n",
       "      <td>2</td>\n",
       "      <td>homem</td>\n",
       "      <td>108</td>\n",
       "    </tr>\n",
       "    <tr>\n",
       "      <th>1</th>\n",
       "      <td>3</td>\n",
       "      <td>homem</td>\n",
       "      <td>347</td>\n",
       "    </tr>\n",
       "    <tr>\n",
       "      <th>2</th>\n",
       "      <td>3</td>\n",
       "      <td>mulher</td>\n",
       "      <td>144</td>\n",
       "    </tr>\n",
       "  </tbody>\n",
       "</table>\n",
       "</div>"
      ],
      "text/plain": [
       "   GrupoEconomico    Sexo  freq\n",
       "0               2   homem   108\n",
       "1               3   homem   347\n",
       "2               3  mulher   144"
      ]
     },
     "execution_count": 25,
     "metadata": {},
     "output_type": "execute_result"
    }
   ],
   "source": [
    "query = '''\n",
    "    SELECT GrupoEconomico, Sexo, COUNT(*) AS freq\n",
    "    FROM AtrasoCartaoCredito\n",
    "    WHERE GrupoEconomico <> 1\n",
    "    GROUP BY GrupoEconomico, Sexo\n",
    "    HAVING COUNT(*) > 100\n",
    "'''\n",
    "\n",
    "sqldf(query)"
   ]
  },
  {
   "cell_type": "markdown",
   "metadata": {},
   "source": [
    "## Pausa - voltamos 20:37"
   ]
  }
 ],
 "metadata": {
  "hide_input": false,
  "kernelspec": {
   "display_name": "Python 3",
   "language": "python",
   "name": "python3"
  },
  "language_info": {
   "codemirror_mode": {
    "name": "ipython",
    "version": 3
   },
   "file_extension": ".py",
   "mimetype": "text/x-python",
   "name": "python",
   "nbconvert_exporter": "python",
   "pygments_lexer": "ipython3",
   "version": "3.8.3"
  },
  "toc": {
   "base_numbering": 1,
   "nav_menu": {},
   "number_sections": true,
   "sideBar": true,
   "skip_h1_title": false,
   "title_cell": "Table of Contents",
   "title_sidebar": "Contents",
   "toc_cell": false,
   "toc_position": {},
   "toc_section_display": true,
   "toc_window_display": true
  },
  "varInspector": {
   "cols": {
    "lenName": 16,
    "lenType": 16,
    "lenVar": 40
   },
   "kernels_config": {
    "python": {
     "delete_cmd_postfix": "",
     "delete_cmd_prefix": "del ",
     "library": "var_list.py",
     "varRefreshCmd": "print(var_dic_list())"
    },
    "r": {
     "delete_cmd_postfix": ") ",
     "delete_cmd_prefix": "rm(",
     "library": "var_list.r",
     "varRefreshCmd": "cat(var_dic_list()) "
    }
   },
   "types_to_exclude": [
    "module",
    "function",
    "builtin_function_or_method",
    "instance",
    "_Feature"
   ],
   "window_display": false
  }
 },
 "nbformat": 4,
 "nbformat_minor": 2
}
