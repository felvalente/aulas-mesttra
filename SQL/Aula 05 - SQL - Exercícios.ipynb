{
 "cells": [
  {
   "cell_type": "markdown",
   "metadata": {},
   "source": [
    "# Aula 5: SQL - Exercícios"
   ]
  },
  {
   "cell_type": "markdown",
   "metadata": {},
   "source": [
    "### Case Olist"
   ]
  },
  {
   "cell_type": "markdown",
   "metadata": {},
   "source": [
    "A Olist é uma loja de departamentos que participa dos principais marketplaces do país:  Mercado Livre, Walmart.com, Americanas.com, Submarino, Casas Bahia entre outros. Mais informações podem ser encontradas [aqui](https://blog.olist.com/olist-chega-para-facilitar-a-vida-de-quem-quer-vender-na-internet-e-em-grandes-varejistas/)."
   ]
  },
  {
   "cell_type": "markdown",
   "metadata": {},
   "source": [
    "![](https://ensinandomaquinasblog.files.wordpress.com/2020/11/f1.png?w=1024)\n",
    "![](https://i.imgur.com/Jory0O3.png)"
   ]
  },
  {
   "cell_type": "markdown",
   "metadata": {},
   "source": [
    "Abaixo, segue uma descrição de cada uma das tabelas contidas no arquivo `salesOlist.db` e em qual arquivo as informações se encontram. Também podem ser conferidas as informações sobre cada coluna.\n",
    " - **Customers**: guarda a cidade, o CEP e o estado do consumidor. Chave: customer_id.\n",
    "  - Colunas:\n",
    "    - **customer_id:** cada pedido possui um único `customer_id`;\n",
    "    - **customer_unique_id:** identificador único de cada consumidor;\n",
    "    - **customer_zip_code_prefix:** primeiros 5 dígitos do CEP do consumidor;\n",
    "    - **customer_city:** cidade onde o consumidor se encontra; \n",
    "    - **customer_state:** estado onde o consumidor se encontra.\n",
    " - **Geolocation**: guarda informações de cidades tais como o CEP, latitude, longitude, nome e estado;\n",
    "  - Colunas:\n",
    "    - **geolocation_zip_code_prefix:** 5 primeiros dígitos do local;\n",
    "    - **geolocation_lat:** latitude do local;\n",
    "    - **geolocation_lng:** longitude do local;\n",
    "    - **geolocation_city:** cidade onde se encontra o local; e\n",
    "    - **geolocation_state:** estado onde se encontra o local.\n",
    " - **OrderItems**: guarda informações sobre quais produtos foram vendidos em cada pedido, seu valor, seu vendedor, preço de venda e preço de frete.\n",
    "  - Colunas:\n",
    "    - **order_id:** identificador único dos pedidos;\n",
    "    - **order_item_id:** identificador sequencial indicando a quantidade de produtos por pedido;\n",
    "    - **product_id:** identificador único de cada produto;\n",
    "    - **seller_id:** identificador único de cada vendedor;\n",
    "    - **price:** preço cobrado por produto; e\n",
    "    - **freight_value:** preço cobrado por frete.\n",
    " - **OrderPayments**: guarda informações sobre o pagamento, parcelas e o valor pago por cada pedido.\n",
    "  - Colunas:\n",
    "    - **order_id:** identificador único de cada pedido;\n",
    "    - **payment_sequential**;\n",
    "    - **payment_type:** método escolhido para o pagamento;\n",
    "    - **payment_installments:** número de parcelas; e\n",
    "    - **payment_value:** total pago.\n",
    " - **OrderReviews**: guarda informações sobre *reviews* do pedido.\n",
    "  - Colunas:\n",
    "    - **review_id:** identificador único de cada avaliação;\n",
    "    - **order_id:** identificador único de cada pedido;\n",
    "    - **review_score:** nota dada ao pedido;\n",
    "    - **review_comment_title:** título do comentário;\n",
    "    - **review_comment_message:** comentário sobre o pedido;\n",
    "    - **review_creation_date:** data do envio do questionário de satisfação; e\n",
    "    - **review_answer_timestamp:** data da resposta ao questionário de satisfação .\n",
    " - **Orders**: guarda informações sobre o qual o consumidor efetuou a compra, o *status* do pedido, data da compra, datas de entrega (estimada e efetiva)\n",
    "  - Colunas:\n",
    "    - **order_id:** identificador único de cada pedido;\n",
    "    - **customer_id:**; \n",
    "    - **order_status:** chave para a tabela `Customers` (cada pedido tem uma única chave);\n",
    "    - **order_purchase_timestamp:** *timestamp* para a data do pedido;\n",
    "    - **order_approved_at:** *timestamp* para a aprovação do pagamento;\n",
    "    - **order_delivered_carrier_date:** *timestamp* para a data de postagem do pedido;\n",
    "    - **order_delivered_customer_date:** data da entrega do pedido; e\n",
    "    - **order_estimated_delivery_date:** data estimada da entrega.\n",
    " - **Products**: guarda informações sobre sobre a categoria e tamanho dos produtos vendidos. \n",
    "  - Colunas:\n",
    "    - **product_id:** identificador único de cada pedido;\n",
    "    - **product_category_name:** nome da categoria do produto;\n",
    "    - **product_name_lenght:** comprimento do nome do produto;\n",
    "    - **product_description_lenght:** comprimento da descrição do produto;\n",
    "    - **product_photos_qty:** quantidade de fotos do produto;\n",
    "    - **product_weight_g:** massa do produto em gramas;\n",
    "    - **product_length_cm:** comprimento do produto em cm;\n",
    "    - **product_height_cm:** altu e\n",
    "    - product_width_cm.\n",
    " - **Sellers**: guarda informações do vendedor, tais como a cidade, estado e o código postal\n",
    "  - Colunas:\n",
    "    -**seller_id:** identificador único do vendedor;\n",
    "    - **seller_zip_code_prefix:** guarda informações dos 4 primeiros dígitos do CEP do vendedor;\n",
    "    - **seller_city:** cidade do vendedor; e\n",
    "    - **seller_state:** estado do vendedor.\n",
    " - **QualifiedLeads**: informações de *leads* da Olist.\n",
    "  - Colunas:\n",
    "    - **mql_id:** identificador único da *lead*;\n",
    "    - **first_contact_date:** data do primeiro contato;\n",
    "    - **landing_page_id:** página que adquiriu a *lead*; e \n",
    "    - **origin:** tipo da mídia que adquriu a *lead*.\n",
    " - **ClosedDeals**: informações de negócios com vendedores \n",
    "    - **mql_id:** identificador único da lead;\n",
    "    - **seller_id:** identificador único do vendedor;\n",
    "    - **sdr_id:** identificador único do representante de vendas e desenvolvimento;\n",
    "    - **sr_id:** identificador único do representante de vendas;\n",
    "    - **won_date:** data do fechamento do contrato;\n",
    "    - **business_segment:** segmento do *lead*; \n",
    "    - **lead_type:** tipo da *lead* (*online*, *offline*, indústria, etc);\n",
    "    - **lead_behaviour_profile:** \n",
    "    - **has_company:**: o *lead* tem uma companhia (documentada)?\n",
    "    - **has_gtin:** a companhia possi código de barras internacional para seus produtos?\n",
    "    - **average_stock:** tamanho do estoque declarado;\n",
    "    - **business_type:** tipo de negócio (revendedor/fabricante/etc);\n",
    "    - **declared_product_catalog_size:** tamanho do catálogo declarado; e\n",
    "    - **declared_monthly_revenue:** renda mensal declarada."
   ]
  },
  {
   "cell_type": "code",
   "execution_count": 2,
   "metadata": {
    "ExecuteTime": {
     "end_time": "2021-07-26T22:49:39.703266Z",
     "start_time": "2021-07-26T22:49:38.537143Z"
    }
   },
   "outputs": [],
   "source": [
    "import sqlalchemy\n",
    "import pandas as pd\n",
    "import sqlite3\n",
    "from pandasql import sqldf"
   ]
  },
  {
   "cell_type": "code",
   "execution_count": 3,
   "metadata": {
    "ExecuteTime": {
     "end_time": "2021-07-26T22:49:39.781798Z",
     "start_time": "2021-07-26T22:49:39.740264Z"
    }
   },
   "outputs": [
    {
     "data": {
      "text/plain": [
       "[('ClosedDeals',),\n",
       " ('Customers',),\n",
       " ('Geolocation',),\n",
       " ('OrderItems',),\n",
       " ('OrderPayments',),\n",
       " ('OrderReviews',),\n",
       " ('Orders',),\n",
       " ('Products',),\n",
       " ('QualifiedLeads',),\n",
       " ('Sellers',)]"
      ]
     },
     "execution_count": 3,
     "metadata": {},
     "output_type": "execute_result"
    }
   ],
   "source": [
    "con = sqlite3.connect('salesOlist.db')\n",
    "cursor = con.cursor()\n",
    "cursor.execute('SELECT name FROM sqlite_master WHERE type=\"table\" ORDER BY name')\n",
    "cursor.fetchall()"
   ]
  },
  {
   "cell_type": "markdown",
   "metadata": {},
   "source": [
    "### Crie uma tabela com cada vendedor e o somatório que cada vendedor realizou (utilize a tabela `orderitems`). Em seguida, use junte essa tabela com a tabela de vendedores e ordene de forma decrescente pelo somatório que cada vendedor realizou"
   ]
  },
  {
   "cell_type": "code",
   "execution_count": 17,
   "metadata": {
    "ExecuteTime": {
     "end_time": "2021-07-26T23:53:12.668615Z",
     "start_time": "2021-07-26T23:53:12.416243Z"
    }
   },
   "outputs": [
    {
     "data": {
      "text/html": [
       "<div>\n",
       "<style scoped>\n",
       "    .dataframe tbody tr th:only-of-type {\n",
       "        vertical-align: middle;\n",
       "    }\n",
       "\n",
       "    .dataframe tbody tr th {\n",
       "        vertical-align: top;\n",
       "    }\n",
       "\n",
       "    .dataframe thead th {\n",
       "        text-align: right;\n",
       "    }\n",
       "</style>\n",
       "<table border=\"1\" class=\"dataframe\">\n",
       "  <thead>\n",
       "    <tr style=\"text-align: right;\">\n",
       "      <th></th>\n",
       "      <th>seller_id</th>\n",
       "      <th>seller_zip_code_prefix</th>\n",
       "      <th>seller_city</th>\n",
       "      <th>seller_state</th>\n",
       "      <th>seller_id</th>\n",
       "      <th>valor_vendido_total</th>\n",
       "    </tr>\n",
       "  </thead>\n",
       "  <tbody>\n",
       "    <tr>\n",
       "      <th>0</th>\n",
       "      <td>4869f7a5dfa277a7dca6462dcf3b52b2</td>\n",
       "      <td>14840</td>\n",
       "      <td>guariba</td>\n",
       "      <td>SP</td>\n",
       "      <td>4869f7a5dfa277a7dca6462dcf3b52b2</td>\n",
       "      <td>229472.63</td>\n",
       "    </tr>\n",
       "    <tr>\n",
       "      <th>1</th>\n",
       "      <td>53243585a1d6dc2643021fd1853d8905</td>\n",
       "      <td>42738</td>\n",
       "      <td>lauro de freitas</td>\n",
       "      <td>BA</td>\n",
       "      <td>53243585a1d6dc2643021fd1853d8905</td>\n",
       "      <td>222776.05</td>\n",
       "    </tr>\n",
       "    <tr>\n",
       "      <th>2</th>\n",
       "      <td>4a3ca9315b744ce9f8e9374361493884</td>\n",
       "      <td>14940</td>\n",
       "      <td>ibitinga</td>\n",
       "      <td>SP</td>\n",
       "      <td>4a3ca9315b744ce9f8e9374361493884</td>\n",
       "      <td>200472.92</td>\n",
       "    </tr>\n",
       "    <tr>\n",
       "      <th>3</th>\n",
       "      <td>fa1c13f2614d7b5c4749cbc52fecda94</td>\n",
       "      <td>13170</td>\n",
       "      <td>sumare</td>\n",
       "      <td>SP</td>\n",
       "      <td>fa1c13f2614d7b5c4749cbc52fecda94</td>\n",
       "      <td>194042.03</td>\n",
       "    </tr>\n",
       "    <tr>\n",
       "      <th>4</th>\n",
       "      <td>7c67e1448b00f6e969d365cea6b010ab</td>\n",
       "      <td>08577</td>\n",
       "      <td>itaquaquecetuba</td>\n",
       "      <td>SP</td>\n",
       "      <td>7c67e1448b00f6e969d365cea6b010ab</td>\n",
       "      <td>187923.89</td>\n",
       "    </tr>\n",
       "    <tr>\n",
       "      <th>...</th>\n",
       "      <td>...</td>\n",
       "      <td>...</td>\n",
       "      <td>...</td>\n",
       "      <td>...</td>\n",
       "      <td>...</td>\n",
       "      <td>...</td>\n",
       "    </tr>\n",
       "    <tr>\n",
       "      <th>3090</th>\n",
       "      <td>34aefe746cd81b7f3b23253ea28bef39</td>\n",
       "      <td>81210</td>\n",
       "      <td>curitiba</td>\n",
       "      <td>PR</td>\n",
       "      <td>34aefe746cd81b7f3b23253ea28bef39</td>\n",
       "      <td>8.00</td>\n",
       "    </tr>\n",
       "    <tr>\n",
       "      <th>3091</th>\n",
       "      <td>702835e4b785b67a084280efca355756</td>\n",
       "      <td>36046</td>\n",
       "      <td>juiz de fora</td>\n",
       "      <td>MG</td>\n",
       "      <td>702835e4b785b67a084280efca355756</td>\n",
       "      <td>7.60</td>\n",
       "    </tr>\n",
       "    <tr>\n",
       "      <th>3092</th>\n",
       "      <td>1fa2d3def6adfa70e58c276bb64fe5bb</td>\n",
       "      <td>04106</td>\n",
       "      <td>sao paulo</td>\n",
       "      <td>SP</td>\n",
       "      <td>1fa2d3def6adfa70e58c276bb64fe5bb</td>\n",
       "      <td>6.90</td>\n",
       "    </tr>\n",
       "    <tr>\n",
       "      <th>3093</th>\n",
       "      <td>77128dec4bec4878c37ab7d6169d6f26</td>\n",
       "      <td>02610</td>\n",
       "      <td>sao paulo</td>\n",
       "      <td>SP</td>\n",
       "      <td>77128dec4bec4878c37ab7d6169d6f26</td>\n",
       "      <td>6.50</td>\n",
       "    </tr>\n",
       "    <tr>\n",
       "      <th>3094</th>\n",
       "      <td>cf6f6bc4df3999b9c6440f124fb2f687</td>\n",
       "      <td>04937</td>\n",
       "      <td>sao paulo</td>\n",
       "      <td>SP</td>\n",
       "      <td>cf6f6bc4df3999b9c6440f124fb2f687</td>\n",
       "      <td>3.50</td>\n",
       "    </tr>\n",
       "  </tbody>\n",
       "</table>\n",
       "<p>3095 rows × 6 columns</p>\n",
       "</div>"
      ],
      "text/plain": [
       "                             seller_id seller_zip_code_prefix  \\\n",
       "0     4869f7a5dfa277a7dca6462dcf3b52b2                  14840   \n",
       "1     53243585a1d6dc2643021fd1853d8905                  42738   \n",
       "2     4a3ca9315b744ce9f8e9374361493884                  14940   \n",
       "3     fa1c13f2614d7b5c4749cbc52fecda94                  13170   \n",
       "4     7c67e1448b00f6e969d365cea6b010ab                  08577   \n",
       "...                                ...                    ...   \n",
       "3090  34aefe746cd81b7f3b23253ea28bef39                  81210   \n",
       "3091  702835e4b785b67a084280efca355756                  36046   \n",
       "3092  1fa2d3def6adfa70e58c276bb64fe5bb                  04106   \n",
       "3093  77128dec4bec4878c37ab7d6169d6f26                  02610   \n",
       "3094  cf6f6bc4df3999b9c6440f124fb2f687                  04937   \n",
       "\n",
       "           seller_city seller_state                         seller_id  \\\n",
       "0              guariba           SP  4869f7a5dfa277a7dca6462dcf3b52b2   \n",
       "1     lauro de freitas           BA  53243585a1d6dc2643021fd1853d8905   \n",
       "2             ibitinga           SP  4a3ca9315b744ce9f8e9374361493884   \n",
       "3               sumare           SP  fa1c13f2614d7b5c4749cbc52fecda94   \n",
       "4      itaquaquecetuba           SP  7c67e1448b00f6e969d365cea6b010ab   \n",
       "...                ...          ...                               ...   \n",
       "3090          curitiba           PR  34aefe746cd81b7f3b23253ea28bef39   \n",
       "3091      juiz de fora           MG  702835e4b785b67a084280efca355756   \n",
       "3092         sao paulo           SP  1fa2d3def6adfa70e58c276bb64fe5bb   \n",
       "3093         sao paulo           SP  77128dec4bec4878c37ab7d6169d6f26   \n",
       "3094         sao paulo           SP  cf6f6bc4df3999b9c6440f124fb2f687   \n",
       "\n",
       "      valor_vendido_total  \n",
       "0               229472.63  \n",
       "1               222776.05  \n",
       "2               200472.92  \n",
       "3               194042.03  \n",
       "4               187923.89  \n",
       "...                   ...  \n",
       "3090                 8.00  \n",
       "3091                 7.60  \n",
       "3092                 6.90  \n",
       "3093                 6.50  \n",
       "3094                 3.50  \n",
       "\n",
       "[3095 rows x 6 columns]"
      ]
     },
     "execution_count": 17,
     "metadata": {},
     "output_type": "execute_result"
    }
   ],
   "source": [
    "query = '''\n",
    "SELECT *\n",
    "FROM Sellers AS a\n",
    "JOIN (\n",
    "    SELECT seller_id\n",
    "            ,SUM(price) AS valor_vendido_total\n",
    "    FROM OrderItems\n",
    "    GROUP BY seller_id\n",
    ") AS b\n",
    "    ON a.seller_id = b.seller_id\n",
    "ORDER BY valor_vendido_total DESC\n",
    "'''\n",
    "pd.read_sql(query, con)"
   ]
  },
  {
   "cell_type": "code",
   "execution_count": null,
   "metadata": {},
   "outputs": [],
   "source": []
  },
  {
   "cell_type": "code",
   "execution_count": null,
   "metadata": {},
   "outputs": [],
   "source": []
  },
  {
   "cell_type": "markdown",
   "metadata": {},
   "source": [
    "### Crie uma tabela com cada vendedor e a média que cada vendedor realizou (utilize a tabela `orderitems`) e filtre somente os vendedores que obtiveram média acima de R\\$1000. Em seguida, use junte essa tabela com a tabela de vendedores e ordene de forma decrescente pela média que cada vendedor realizou"
   ]
  },
  {
   "cell_type": "code",
   "execution_count": null,
   "metadata": {},
   "outputs": [],
   "source": []
  },
  {
   "cell_type": "code",
   "execution_count": null,
   "metadata": {},
   "outputs": [],
   "source": []
  },
  {
   "cell_type": "markdown",
   "metadata": {},
   "source": [
    "### Avalie o Preco médio dos produtos e contagem de order_ids por Order_status e payment_type (realize um agrupamento por order status e payment type e veja qual é a forma de pagamento que as pessoas mais utilizam)"
   ]
  },
  {
   "cell_type": "code",
   "execution_count": null,
   "metadata": {},
   "outputs": [],
   "source": []
  },
  {
   "cell_type": "markdown",
   "metadata": {},
   "source": [
    "### Veja quais são as categorias mais bem avaliadas pelos clientes (crie uma tabela com o nome da categoria do produto, a contagem de product_ids e a média de review_score e ordene a tabela dos mais bem avaliados na média para os piores avaliados)"
   ]
  },
  {
   "cell_type": "code",
   "execution_count": null,
   "metadata": {},
   "outputs": [],
   "source": []
  },
  {
   "cell_type": "code",
   "execution_count": null,
   "metadata": {},
   "outputs": [],
   "source": []
  }
 ],
 "metadata": {
  "hide_input": false,
  "kernelspec": {
   "display_name": "Python 3",
   "language": "python",
   "name": "python3"
  },
  "language_info": {
   "codemirror_mode": {
    "name": "ipython",
    "version": 3
   },
   "file_extension": ".py",
   "mimetype": "text/x-python",
   "name": "python",
   "nbconvert_exporter": "python",
   "pygments_lexer": "ipython3",
   "version": "3.8.3"
  },
  "toc": {
   "base_numbering": 1,
   "nav_menu": {},
   "number_sections": true,
   "sideBar": true,
   "skip_h1_title": false,
   "title_cell": "Table of Contents",
   "title_sidebar": "Contents",
   "toc_cell": false,
   "toc_position": {
    "height": "calc(100% - 180px)",
    "left": "10px",
    "top": "150px",
    "width": "165px"
   },
   "toc_section_display": true,
   "toc_window_display": false
  },
  "varInspector": {
   "cols": {
    "lenName": 16,
    "lenType": 16,
    "lenVar": 40
   },
   "kernels_config": {
    "python": {
     "delete_cmd_postfix": "",
     "delete_cmd_prefix": "del ",
     "library": "var_list.py",
     "varRefreshCmd": "print(var_dic_list())"
    },
    "r": {
     "delete_cmd_postfix": ") ",
     "delete_cmd_prefix": "rm(",
     "library": "var_list.r",
     "varRefreshCmd": "cat(var_dic_list()) "
    }
   },
   "types_to_exclude": [
    "module",
    "function",
    "builtin_function_or_method",
    "instance",
    "_Feature"
   ],
   "window_display": false
  }
 },
 "nbformat": 4,
 "nbformat_minor": 2
}
