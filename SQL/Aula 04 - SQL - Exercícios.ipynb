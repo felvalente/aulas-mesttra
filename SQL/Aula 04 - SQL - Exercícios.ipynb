{
 "cells": [
  {
   "cell_type": "markdown",
   "metadata": {},
   "source": [
    "# Aula 4: SQL - Exercícios"
   ]
  },
  {
   "cell_type": "markdown",
   "metadata": {},
   "source": [
    "### Case Olist"
   ]
  },
  {
   "cell_type": "markdown",
   "metadata": {},
   "source": [
    "A Olist é uma loja de departamentos que participa dos principais marketplaces do país:  Mercado Livre, Walmart.com, Americanas.com, Submarino, Casas Bahia entre outros. Mais informações podem ser encontradas [aqui](https://blog.olist.com/olist-chega-para-facilitar-a-vida-de-quem-quer-vender-na-internet-e-em-grandes-varejistas/)."
   ]
  },
  {
   "cell_type": "markdown",
   "metadata": {},
   "source": [
    "![](https://ensinandomaquinasblog.files.wordpress.com/2020/11/f1.png?w=1024)\n",
    "![](https://i.imgur.com/Jory0O3.png)"
   ]
  },
  {
   "cell_type": "markdown",
   "metadata": {},
   "source": [
    "Abaixo, segue uma descrição de cada uma das tabelas contidas no arquivo `salesOlist.db` e em qual arquivo as informações se encontram. Também podem ser conferidas as informações sobre cada coluna.\n",
    " - **Customers**: guarda a cidade, o CEP e o estado do consumidor. Chave: customer_id.\n",
    "  - Colunas:\n",
    "    - **customer_id:** cada pedido possui um único `customer_id`;\n",
    "    - **customer_unique_id:** identificador único de cada consumidor;\n",
    "    - **customer_zip_code_prefix:** primeiros 5 dígitos do CEP do consumidor;\n",
    "    - **customer_city:** cidade onde o consumidor se encontra; \n",
    "    - **customer_state:** estado onde o consumidor se encontra.\n",
    " - **Geolocation**: guarda informações de cidades tais como o CEP, latitude, longitude, nome e estado;\n",
    "  - Colunas:\n",
    "    - **geolocation_zip_code_prefix:** 5 primeiros dígitos do local;\n",
    "    - **geolocation_lat:** latitude do local;\n",
    "    - **geolocation_lng:** longitude do local;\n",
    "    - **geolocation_city:** cidade onde se encontra o local; e\n",
    "    - **geolocation_state:** estado onde se encontra o local.\n",
    " - **OrderItems**: guarda informações sobre quais produtos foram vendidos em cada pedido, seu valor, seu vendedor, preço de venda e preço de frete.\n",
    "  - Colunas:\n",
    "    - **order_id:** identificador único dos pedidos;\n",
    "    - **order_item_id:** identificador sequencial indicando a quantidade de produtos por pedido;\n",
    "    - **product_id:** identificador único de cada produto;\n",
    "    - **seller_id:** identificador único de cada vendedor;\n",
    "    - **price:** preço cobrado por produto; e\n",
    "    - **freight_value:** preço cobrado por frete.\n",
    " - **OrderPayments**: guarda informações sobre o pagamento, parcelas e o valor pago por cada pedido.\n",
    "  - Colunas:\n",
    "    - **order_id:** identificador único de cada pedido;\n",
    "    - **payment_sequential**;\n",
    "    - **payment_type:** método escolhido para o pagamento;\n",
    "    - **payment_installments:** número de parcelas; e\n",
    "    - **payment_value:** total pago.\n",
    " - **OrderReviews**: guarda informações sobre *reviews* do pedido.\n",
    "  - Colunas:\n",
    "    - **review_id:** identificador único de cada avaliação;\n",
    "    - **order_id:** identificador único de cada pedido;\n",
    "    - **review_score:** nota dada ao pedido;\n",
    "    - **review_comment_title:** título do comentário;\n",
    "    - **review_comment_message:** comentário sobre o pedido;\n",
    "    - **review_creation_date:** data do envio do questionário de satisfação; e\n",
    "    - **review_answer_timestamp:** data da resposta ao questionário de satisfação .\n",
    " - **Orders**: guarda informações sobre o qual o consumidor efetuou a compra, o *status* do pedido, data da compra, datas de entrega (estimada e efetiva)\n",
    "  - Colunas:\n",
    "    - **order_id:** identificador único de cada pedido;\n",
    "    - **customer_id:**; \n",
    "    - **order_status:** chave para a tabela `Customers` (cada pedido tem uma única chave);\n",
    "    - **order_purchase_timestamp:** *timestamp* para a data do pedido;\n",
    "    - **order_approved_at:** *timestamp* para a aprovação do pagamento;\n",
    "    - **order_delivered_carrier_date:** *timestamp* para a data de postagem do pedido;\n",
    "    - **order_delivered_customer_date:** data da entrega do pedido; e\n",
    "    - **order_estimated_delivery_date:** data estimada da entrega.\n",
    " - **Products**: guarda informações sobre sobre a categoria e tamanho dos produtos vendidos. \n",
    "  - Colunas:\n",
    "    - **product_id:** identificador único de cada pedido;\n",
    "    - **product_category_name:** nome da categoria do produto;\n",
    "    - **product_name_lenght:** comprimento do nome do produto;\n",
    "    - **product_description_lenght:** comprimento da descrição do produto;\n",
    "    - **product_photos_qty:** quantidade de fotos do produto;\n",
    "    - **product_weight_g:** massa do produto em gramas;\n",
    "    - **product_length_cm:** comprimento do produto em cm;\n",
    "    - **product_height_cm:** altu e\n",
    "    - product_width_cm.\n",
    " - **Sellers**: guarda informações do vendedor, tais como a cidade, estado e o código postal\n",
    "  - Colunas:\n",
    "    -**seller_id:** identificador único do vendedor;\n",
    "    - **seller_zip_code_prefix:** guarda informações dos 4 primeiros dígitos do CEP do vendedor;\n",
    "    - **seller_city:** cidade do vendedor; e\n",
    "    - **seller_state:** estado do vendedor.\n",
    " - **QualifiedLeads**: informações de *leads* da Olist.\n",
    "  - Colunas:\n",
    "    - **mql_id:** identificador único da *lead*;\n",
    "    - **first_contact_date:** data do primeiro contato;\n",
    "    - **landing_page_id:** página que adquiriu a *lead*; e \n",
    "    - **origin:** tipo da mídia que adquriu a *lead*.\n",
    " - **ClosedDeals**: informações de negócios com vendedores \n",
    "    - **mql_id:** identificador único da lead;\n",
    "    - **seller_id:** identificador único do vendedor;\n",
    "    - **sdr_id:** identificador único do representante de vendas e desenvolvimento;\n",
    "    - **sr_id:** identificador único do representante de vendas;\n",
    "    - **won_date:** data do fechamento do contrato;\n",
    "    - **business_segment:** segmento do *lead*; \n",
    "    - **lead_type:** tipo da *lead* (*online*, *offline*, indústria, etc);\n",
    "    - **lead_behaviour_profile:** \n",
    "    - **has_company:**: o *lead* tem uma companhia (documentada)?\n",
    "    - **has_gtin:** a companhia possi código de barras internacional para seus produtos?\n",
    "    - **average_stock:** tamanho do estoque declarado;\n",
    "    - **business_type:** tipo de negócio (revendedor/fabricante/etc);\n",
    "    - **declared_product_catalog_size:** tamanho do catálogo declarado; e\n",
    "    - **declared_monthly_revenue:** renda mensal declarada."
   ]
  },
  {
   "cell_type": "code",
   "execution_count": 1,
   "metadata": {
    "ExecuteTime": {
     "end_time": "2021-07-17T19:15:57.511296Z",
     "start_time": "2021-07-17T19:15:57.058187Z"
    }
   },
   "outputs": [],
   "source": [
    "import pandas as pd\n",
    "import sqlite3"
   ]
  },
  {
   "cell_type": "code",
   "execution_count": 2,
   "metadata": {
    "ExecuteTime": {
     "end_time": "2021-07-17T19:15:59.200630Z",
     "start_time": "2021-07-17T19:15:59.186626Z"
    }
   },
   "outputs": [
    {
     "data": {
      "text/plain": [
       "[('ClosedDeals',),\n",
       " ('Customers',),\n",
       " ('Geolocation',),\n",
       " ('OrderItems',),\n",
       " ('OrderPayments',),\n",
       " ('OrderReviews',),\n",
       " ('Orders',),\n",
       " ('Products',),\n",
       " ('QualifiedLeads',),\n",
       " ('Sellers',)]"
      ]
     },
     "execution_count": 2,
     "metadata": {},
     "output_type": "execute_result"
    }
   ],
   "source": [
    "con = sqlite3.connect('salesOlist.db')\n",
    "cursor = con.cursor()\n",
    "cursor.execute('SELECT name FROM sqlite_master WHERE type=\"table\" ORDER BY name')\n",
    "cursor.fetchall()"
   ]
  },
  {
   "cell_type": "markdown",
   "metadata": {},
   "source": [
    "## Conte o número de clientes por estado e ordene em ordem decrescente"
   ]
  },
  {
   "cell_type": "code",
   "execution_count": null,
   "metadata": {},
   "outputs": [],
   "source": []
  },
  {
   "cell_type": "markdown",
   "metadata": {},
   "source": [
    "## Conte quantas cidades existem em cada estado da região sul usando a tabela `geolocation`"
   ]
  },
  {
   "cell_type": "code",
   "execution_count": null,
   "metadata": {},
   "outputs": [],
   "source": []
  },
  {
   "cell_type": "markdown",
   "metadata": {},
   "source": [
    "## Informe para cada tipo de pagamento o somatório e a média do valor de pagamento"
   ]
  },
  {
   "cell_type": "code",
   "execution_count": null,
   "metadata": {},
   "outputs": [],
   "source": []
  },
  {
   "cell_type": "markdown",
   "metadata": {},
   "source": [
    "## Conte quantas cidades únicas existem por geolocation_state e ordene do menor ao maior valor"
   ]
  },
  {
   "cell_type": "code",
   "execution_count": null,
   "metadata": {},
   "outputs": [],
   "source": []
  },
  {
   "cell_type": "markdown",
   "metadata": {},
   "source": [
    "## Conte quantos vendedores existem por estado e possuam menos de 50 lojas ordenando do maior estado para o menor"
   ]
  },
  {
   "cell_type": "code",
   "execution_count": null,
   "metadata": {},
   "outputs": [],
   "source": []
  },
  {
   "cell_type": "markdown",
   "metadata": {},
   "source": [
    "## Veja quais são as categorias mais bem avaliadas pelos clientes\n",
    "\n",
    "crie uma tabela com a **categoria do produto, a contagem de product_ids e a média de review_score** e ordene a tabela pela média das categorias melhores avaliadas para as piores avaliadas"
   ]
  },
  {
   "cell_type": "code",
   "execution_count": null,
   "metadata": {},
   "outputs": [],
   "source": []
  },
  {
   "cell_type": "code",
   "execution_count": null,
   "metadata": {},
   "outputs": [],
   "source": []
  },
  {
   "cell_type": "markdown",
   "metadata": {},
   "source": [
    "## Veja quais são as categorias mais bem avaliadas pelos clientes\n",
    "\n",
    "crie uma tabela com a **categoria do produto, a contagem de product_ids e a média de review_score** e ordene a tabela pela média das categorias melhores avaliadas para as piores avaliadas"
   ]
  },
  {
   "cell_type": "code",
   "execution_count": null,
   "metadata": {},
   "outputs": [],
   "source": []
  },
  {
   "cell_type": "code",
   "execution_count": null,
   "metadata": {},
   "outputs": [],
   "source": []
  },
  {
   "cell_type": "markdown",
   "metadata": {},
   "source": [
    "## Extra: Armazene as tabelas isoladamente em variáveis no python e refaça os comandos utilizando pandas"
   ]
  },
  {
   "cell_type": "code",
   "execution_count": null,
   "metadata": {},
   "outputs": [],
   "source": []
  },
  {
   "cell_type": "code",
   "execution_count": null,
   "metadata": {},
   "outputs": [],
   "source": []
  },
  {
   "cell_type": "code",
   "execution_count": null,
   "metadata": {},
   "outputs": [],
   "source": []
  }
 ],
 "metadata": {
  "hide_input": false,
  "kernelspec": {
   "display_name": "Python 3",
   "language": "python",
   "name": "python3"
  },
  "language_info": {
   "codemirror_mode": {
    "name": "ipython",
    "version": 3
   },
   "file_extension": ".py",
   "mimetype": "text/x-python",
   "name": "python",
   "nbconvert_exporter": "python",
   "pygments_lexer": "ipython3",
   "version": "3.8.3"
  },
  "toc": {
   "base_numbering": 1,
   "nav_menu": {},
   "number_sections": true,
   "sideBar": true,
   "skip_h1_title": false,
   "title_cell": "Table of Contents",
   "title_sidebar": "Contents",
   "toc_cell": false,
   "toc_position": {},
   "toc_section_display": true,
   "toc_window_display": true
  },
  "varInspector": {
   "cols": {
    "lenName": 16,
    "lenType": 16,
    "lenVar": 40
   },
   "kernels_config": {
    "python": {
     "delete_cmd_postfix": "",
     "delete_cmd_prefix": "del ",
     "library": "var_list.py",
     "varRefreshCmd": "print(var_dic_list())"
    },
    "r": {
     "delete_cmd_postfix": ") ",
     "delete_cmd_prefix": "rm(",
     "library": "var_list.r",
     "varRefreshCmd": "cat(var_dic_list()) "
    }
   },
   "types_to_exclude": [
    "module",
    "function",
    "builtin_function_or_method",
    "instance",
    "_Feature"
   ],
   "window_display": false
  }
 },
 "nbformat": 4,
 "nbformat_minor": 2
}
