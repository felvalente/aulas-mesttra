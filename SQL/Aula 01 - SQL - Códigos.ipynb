{
 "cells": [
  {
   "cell_type": "markdown",
   "metadata": {},
   "source": [
    "# Aula 1: SQL"
   ]
  },
  {
   "cell_type": "markdown",
   "metadata": {},
   "source": [
    "## Introdução\n",
    "\n",
    "- SQL é uma linguagem padrão para trabalhar com bancos de dados relacionais\n",
    "- É uma linguagem declarativa e que não necessita de profundos conhecimentos de programação para que alguém possa começar a escrever queries\n",
    "- SQL é acrônimo de Structured Query Language, literalmente a linguagem struturada para realizar queries.\n",
    "- Apesar de existirem diversos bancos de dados relacionais, cada um com sua funcionalidade, todos possuem comandos básicos que podem ser aplicados em qualquer banco de dados:\n",
    "\n",
    "![](https://cdn-images-1.medium.com/fit/t/1600/480/1*LcXr-gRpSfe63XjdCVa15A.png)"
   ]
  },
  {
   "cell_type": "markdown",
   "metadata": {},
   "source": [
    "- Nessa aula usaremos o site https://www.db4free.net/, que utiliza MySQL\n",
    "- Antes de começarmos, criem uma conta no DB4Free"
   ]
  },
  {
   "cell_type": "markdown",
   "metadata": {},
   "source": [
    "## Conceitos"
   ]
  },
  {
   "cell_type": "markdown",
   "metadata": {},
   "source": [
    "### Modelo relacional"
   ]
  },
  {
   "cell_type": "markdown",
   "metadata": {},
   "source": [
    "- O Modelo entidade relacionamento proposto por Peter P. Chen pode ser melhor compreendido por uma teoria chamada de A lei do Mundo, teoria essa, que conceitua que o mundo está cheio de coisas que possuem características próprias e que se **relacionam entre si**. Sua analise da teoria pode ser dividida em três partes:"
   ]
  },
  {
   "cell_type": "markdown",
   "metadata": {},
   "source": [
    "- **O mundo está cheio de coisas**\n",
    "    - Tudo que possa ser caracterizado, conceituado, real ou imaginário, no nosso Universo (Mundo), é definido como coisa, que futuramente, dependendo da abordagem, poderá ser definido como uma **entidade.**\n",
    "\n",
    "- **Que possuem características próprias**\n",
    "    - **Características** comuns percebidas entre as coisas de modo que haja a possibilidade de enquadramento dessas coisas em conjuntos particulares\n",
    "    - Exemplo: “conselho de economia, conselho de medicina, conselho de odontologia” todos podem ser enquadrados em um mesmo conjunto, denominado como Órgão normalizador.\n",
    "\n",
    "- **E que se relacionam entre si**\n",
    "    - São as **relações entre as coisas**. Como as mesmas irão relaciona-se entre elementos individualizados de diferentes conjuntos ou entre elementos de um mesmo conjunto. A forma de comunicação entre as coisas ou um conjunto delas\n",
    "    - Exemplos: Adail é credenciado pelo conselho de economia é um relacionamento entre elementos de diferentes conjuntos. Adail é substituto de Caio é um relacionamento entre elementos do mesmo conjunto."
   ]
  },
  {
   "cell_type": "markdown",
   "metadata": {},
   "source": [
    "![](https://consultabd.files.wordpress.com/2019/08/img_relacional-1.jpg)"
   ]
  },
  {
   "cell_type": "markdown",
   "metadata": {},
   "source": [
    "### Banco de dados"
   ]
  },
  {
   "cell_type": "markdown",
   "metadata": {},
   "source": [
    "- **Coleção de dados ou informações relacionadas entre si**\n",
    "- Coleção lógica e coerente de dados com algum significado inerente\n",
    "- Projetado, construído e povoado por dados, atendendo uma proposta específica\n",
    "- Dados organizados que se relacionam para criar algum sentido (informação)\n",
    "\n",
    "![](https://encrypted-tbn0.gstatic.com/images?q=tbn:ANd9GcR6BA4uD8n7lv7BCiSyckzIJfzu2Zgssgg5GQ&usqp=CAU)"
   ]
  },
  {
   "cell_type": "markdown",
   "metadata": {},
   "source": [
    "### SGBD - Sistema de gerenciamento de banco de dados"
   ]
  },
  {
   "cell_type": "markdown",
   "metadata": {},
   "source": [
    "- Um Sistema de Gerenciamento de Banco de Dados (SGBD) — do inglês Data Base Management System (DBMS) — é o sistema de software responsável pelo gerenciamento de um ou mais bancos de dados\n",
    "- Seu principal **objetivo é retirar da aplicação cliente a responsabilidade de gerenciar o acesso, a persistência, a manipulação e a organização dos dados**\n",
    "- O SGBD disponibiliza uma interface para que seus clientes possam incluir, alterar ou consultar dados previamente armazenados\n",
    "- Em bancos de dados relacionais a interface é constituída pelas APIs (Application Programming Interface) ou drivers do SGBD, que executam comandos na linguagem SQL (Structured Query Language)."
   ]
  },
  {
   "cell_type": "markdown",
   "metadata": {},
   "source": [
    "![](https://dicasdeprogramacao.com.br/images/o-que-e-um-sgbd/destaque-600x315.png)"
   ]
  },
  {
   "cell_type": "markdown",
   "metadata": {},
   "source": [
    "### Metadados"
   ]
  },
  {
   "cell_type": "markdown",
   "metadata": {},
   "source": [
    "- O prefixo \"Meta\" vem do grego e significa \"além de\". Assim Metadados são **informações que acrescem aos dados e que têm como objetivo informar-nos sobre eles para tornar mais fácil a sua organização.**\n",
    "- Um item de um metadado pode informar do que se trata aquele dado numa linguagem inteligível para um computador\n",
    "- Os metadados tem a **função de facilitar o entendimento dos relacionamentos e evidenciar a utilidade das informações dos dados**\n",
    "\n",
    "- Praticamente todos os dispositivos digitais geram metadados a partir do uso que fazemos\n",
    "    - Por exemplo, ao tirar uma foto, além de gravar a foto na memória da foto, metadados são associados a esta foto descrevendo informações sobre o modelo da câmera, tipo de ISO, data, tamanho e formato do arquivo e até o local de onde a foto foi tirada se o aparelho tiver GPS.\n",
    "\n",
    "- Ao fazer login em um site de redes sociais ou de compras várias informações são registradas além daquelas que escrevemos diretamente nos sites, como por exemplo, o endereço IP, o nome e versão do navegador, horário exato de entrada e saída, bem como outros detalhes sobre os seus cliques durante aquela navegação.\n",
    "\n",
    "- Os tipos mais comuns de metadados são:\n",
    "\n",
    "    - Número de telefones, endereços de email e os nomes das pessoas que usam serviços;\n",
    "\n",
    "    - Dados de Localização: onde está o seu telefone celular;\n",
    "\n",
    "    - Data e hora em que foram feitas as ligações, emails, arquivos e fotos;\n",
    "\n",
    "    - Informações do aparelho que você está usando;\n",
    "\n",
    "    - Os títulos (assuntos) de seus e-mails;"
   ]
  },
  {
   "cell_type": "markdown",
   "metadata": {},
   "source": [
    "![](http://blog.simbiox.com.br/wp-content/uploads/2020/05/Ilustra%C3%A7%C3%A3o_-Metadados_Blog.png)"
   ]
  },
  {
   "cell_type": "markdown",
   "metadata": {},
   "source": [
    "### Chave primária\n",
    "A chave primária, ou `primary key`, é o conceito mais básico relacionado à organização em um banco de dados. Toda tabela possuirá uma, e somente uma, chave primária. Essa chave é utilizada como identificador único da tabela, sendo representada por aquele campo (ou campos) que não receberá valores repetidos.\n",
    "\n",
    "Por causa disso, existe uma lista de características que deve ser levada em consideração ao definir uma chave primária:"
   ]
  },
  {
   "cell_type": "markdown",
   "metadata": {},
   "source": [
    "- Chaves primárias não podem ser nulas;\n",
    "- Cada registro na tabela deve possuir uma, e somente uma, chave primária;\n",
    "- Normalmente, chaves primárias são incrementadas automaticamente pelo banco de dados, ou seja, não há necessidade de passarmos esse valor em um INSERT\n",
    "    - Entretanto, essa é uma opção configurada na criação da base de dados que não é obrigatória\n",
    "    - Nos casos em que ela (incremento automático) não é definida, é preciso garantir que não haverá valores repetidos nessa coluna\n",
    "- São as chaves para o relacionamento entre entidades ou tabelas da base de dados. Assim haverá na tabela relacionada uma referência a essa chave primária (que será, na tabela relacionada, a chave estrangeira)."
   ]
  },
  {
   "cell_type": "markdown",
   "metadata": {},
   "source": [
    "`CREATE TABLE tbl_Clientes\n",
    "(\n",
    "    ID_Cliente integer PRIMARY KEY,\n",
    "    Nome_Cliente varchar(255),\n",
    "    CPF_Cliente varchar(255),\n",
    "    Data_Nasc varchar(255)\n",
    ");`"
   ]
  },
  {
   "cell_type": "markdown",
   "metadata": {},
   "source": [
    "### Chave estrangeira\n",
    "A chave estrangeira, ou `foreign key`, é um conceito ligeiramente diferente. Ela não diz respeito, especificamente, a uma tabela, mas sim a um relacionamento entre tabelas\n",
    "\n",
    "De forma sucinta, a chave estrangeira é uma referência em uma tabela a uma chave primária de outra tabela. Para facilitar a compreensão, tomemos como exemplo duas tabelas: `tbl_Clientes` e `tbl_Vendas`\n",
    "\n",
    "Para montarmos um relacionamento entre elas poderíamos ter na tabela `tbl_Vendas` o campo `ID_Cliente` fazendo referência à chave primária da tabela `tbl_Clientes`.\n",
    "\n",
    "\n",
    "Diferentemente da chave primária, a chave estrangeira:\n",
    "\n",
    "- Pode ser nula (NOT NULL)\n",
    "- É um campo em uma tabela que faz **referência a um campo que é chave primária em outra tabela**\n",
    "- É possível ter mais de uma (ou nenhuma) em uma tabela"
   ]
  },
  {
   "cell_type": "markdown",
   "metadata": {},
   "source": [
    "![](https://lh3.googleusercontent.com/proxy/wOirYDH_e0CyjwRNTu8kV7bGkS_QogMdbRxlgMOwuQMttFOWEPBNEfnIo5mk3tH5WyxzcilXd3CGaxGAE3kVytvt4KRxNKnAmMj7sxC1SbMD8C3JZ1wjxSpKEZGkD8vbPlWIRSGnECym7L6fdmIkU4aDjOkLRpL_tfVe2BCOx5ImLxkT)"
   ]
  },
  {
   "cell_type": "markdown",
   "metadata": {},
   "source": [
    "![](https://miro.medium.com/max/1400/1*wr_PNTP9fQHxXeMydaSfnQ.jpeg)"
   ]
  },
  {
   "cell_type": "markdown",
   "metadata": {},
   "source": [
    "## Conexao no db4free"
   ]
  },
  {
   "cell_type": "markdown",
   "metadata": {},
   "source": [
    "- Para trabalhar com bancos de dados, temos que fazer uma conexão do nosso jupyter notebook com o banco de dados\n",
    "- Antes disso, para evitar que nossos dados fiquem expostos no notebook e facilitar a manutenção de código, podemos criar um arquivo `yml` e adicionar nossas credenciais no formato:\n",
    "    - `user: 'usuario'`\n",
    "    - `password: 'senha'`\n",
    "    - `host: 'db4free.net'`\n",
    "    - `database: 'database'`\n",
    "    - `port: 3306`"
   ]
  },
  {
   "cell_type": "code",
   "execution_count": 1,
   "metadata": {
    "ExecuteTime": {
     "end_time": "2021-07-20T22:08:14.729801Z",
     "start_time": "2021-07-20T22:08:14.627793Z"
    }
   },
   "outputs": [],
   "source": [
    "import yaml"
   ]
  },
  {
   "cell_type": "markdown",
   "metadata": {},
   "source": [
    "- `shift + tab` dentro do parenteses: abre a documentação"
   ]
  },
  {
   "cell_type": "code",
   "execution_count": 2,
   "metadata": {
    "ExecuteTime": {
     "end_time": "2021-07-20T22:08:17.049627Z",
     "start_time": "2021-07-20T22:08:17.021629Z"
    }
   },
   "outputs": [],
   "source": [
    "with open('credentials.yml', 'r') as file:\n",
    "    credentials = yaml.load(file, Loader=yaml.FullLoader)"
   ]
  },
  {
   "cell_type": "markdown",
   "metadata": {},
   "source": [
    "- Uma vez que importamos as credenciais, podemos fazer a conexão com o banco de dados"
   ]
  },
  {
   "cell_type": "code",
   "execution_count": null,
   "metadata": {},
   "outputs": [],
   "source": [
    "!pip uninstall mysql-connector"
   ]
  },
  {
   "cell_type": "code",
   "execution_count": null,
   "metadata": {},
   "outputs": [],
   "source": [
    "!pip install mysql-connector-python"
   ]
  },
  {
   "cell_type": "code",
   "execution_count": 3,
   "metadata": {
    "ExecuteTime": {
     "end_time": "2021-07-20T22:08:22.640410Z",
     "start_time": "2021-07-20T22:08:22.525137Z"
    }
   },
   "outputs": [],
   "source": [
    "# importando libs necessárias\n",
    "import mysql.connector"
   ]
  },
  {
   "cell_type": "code",
   "execution_count": null,
   "metadata": {},
   "outputs": [],
   "source": []
  },
  {
   "cell_type": "code",
   "execution_count": 42,
   "metadata": {
    "ExecuteTime": {
     "end_time": "2021-07-20T01:09:01.492904Z",
     "start_time": "2021-07-20T01:09:01.477908Z"
    }
   },
   "outputs": [],
   "source": [
    "from mysql.connector import __version__"
   ]
  },
  {
   "cell_type": "code",
   "execution_count": 43,
   "metadata": {
    "ExecuteTime": {
     "end_time": "2021-07-20T01:09:04.721906Z",
     "start_time": "2021-07-20T01:09:04.707896Z"
    }
   },
   "outputs": [
    {
     "data": {
      "text/plain": [
       "'2.2.9'"
      ]
     },
     "execution_count": 43,
     "metadata": {},
     "output_type": "execute_result"
    }
   ],
   "source": [
    "__version__"
   ]
  },
  {
   "cell_type": "code",
   "execution_count": null,
   "metadata": {},
   "outputs": [],
   "source": []
  },
  {
   "cell_type": "code",
   "execution_count": null,
   "metadata": {},
   "outputs": [],
   "source": []
  },
  {
   "cell_type": "code",
   "execution_count": 4,
   "metadata": {
    "ExecuteTime": {
     "end_time": "2021-07-20T22:08:28.677204Z",
     "start_time": "2021-07-20T22:08:25.538573Z"
    }
   },
   "outputs": [],
   "source": [
    "con = mysql.connector.connect(user=credentials['user'],\n",
    "                              password=credentials['password'],\n",
    "                              host=credentials['host'],\n",
    "                              database=credentials['database'],\n",
    "                              port=credentials['port'])\n",
    "\n",
    "cursor = con.cursor()"
   ]
  },
  {
   "cell_type": "markdown",
   "metadata": {},
   "source": [
    "## Queries de criação e manipulação de tabelas"
   ]
  },
  {
   "cell_type": "markdown",
   "metadata": {},
   "source": [
    "- Agora que estabelecemos a conexão com o banco de dados, podemos começar a aplicar as queries\n",
    "- Podemos escrever as queries dentro da variável `query` e o `cursor.execute(query)` aplica a query"
   ]
  },
  {
   "cell_type": "markdown",
   "metadata": {},
   "source": [
    "### Show tables"
   ]
  },
  {
   "cell_type": "markdown",
   "metadata": {},
   "source": [
    "Mostrar tabelas do banco de dados"
   ]
  },
  {
   "cell_type": "code",
   "execution_count": 5,
   "metadata": {
    "ExecuteTime": {
     "end_time": "2021-07-20T22:08:35.086698Z",
     "start_time": "2021-07-20T22:08:34.795645Z"
    }
   },
   "outputs": [],
   "source": [
    "query = '''\n",
    "    SHOW TABLES\n",
    "'''\n",
    "\n",
    "cursor.execute(query)"
   ]
  },
  {
   "cell_type": "markdown",
   "metadata": {},
   "source": [
    "Buscar o resultado da query com o método `fetchall`"
   ]
  },
  {
   "cell_type": "code",
   "execution_count": 6,
   "metadata": {
    "ExecuteTime": {
     "end_time": "2021-07-20T22:08:37.738569Z",
     "start_time": "2021-07-20T22:08:37.721041Z"
    }
   },
   "outputs": [
    {
     "data": {
      "text/plain": [
       "[(bytearray(b'AtrasoCartaoCredito'),),\n",
       " (bytearray(b'Customers'),),\n",
       " (bytearray(b'Customers2'),),\n",
       " (bytearray(b'df_a'),),\n",
       " (bytearray(b'df_b'),),\n",
       " (bytearray(b'empresas'),),\n",
       " (bytearray(b'empresas2'),)]"
      ]
     },
     "execution_count": 6,
     "metadata": {},
     "output_type": "execute_result"
    }
   ],
   "source": [
    "cursor.fetchall()"
   ]
  },
  {
   "cell_type": "markdown",
   "metadata": {},
   "source": [
    "### Create table"
   ]
  },
  {
   "cell_type": "markdown",
   "metadata": {},
   "source": [
    "Criar tabela"
   ]
  },
  {
   "cell_type": "code",
   "execution_count": 25,
   "metadata": {
    "ExecuteTime": {
     "end_time": "2021-07-20T00:28:05.380015Z",
     "start_time": "2021-07-20T00:28:04.376634Z"
    }
   },
   "outputs": [],
   "source": [
    "query = ''' \n",
    "    CREATE TABLE empresas (estabelecimento CHAR(40),\n",
    "                           receita INT,\n",
    "                           custo INT,\n",
    "                           anomes INT)    \n",
    "''' \n",
    "\n",
    "cursor.execute(query)"
   ]
  },
  {
   "cell_type": "code",
   "execution_count": 26,
   "metadata": {
    "ExecuteTime": {
     "end_time": "2021-07-20T00:28:34.400576Z",
     "start_time": "2021-07-20T00:28:34.121509Z"
    }
   },
   "outputs": [
    {
     "data": {
      "text/plain": [
       "[(bytearray(b'AtrasoCartaoCredito'),),\n",
       " (bytearray(b'Customers'),),\n",
       " (bytearray(b'Customers2'),),\n",
       " (bytearray(b'df_a'),),\n",
       " (bytearray(b'df_b'),),\n",
       " (bytearray(b'empresas'),),\n",
       " (bytearray(b'empresas2'),)]"
      ]
     },
     "execution_count": 26,
     "metadata": {},
     "output_type": "execute_result"
    }
   ],
   "source": [
    "query = '''\n",
    "    SHOW TABLES\n",
    "'''\n",
    "\n",
    "cursor.execute(query)\n",
    "cursor.fetchall()"
   ]
  },
  {
   "cell_type": "markdown",
   "metadata": {},
   "source": [
    "### Drop table"
   ]
  },
  {
   "cell_type": "markdown",
   "metadata": {},
   "source": [
    "Deletar tabela"
   ]
  },
  {
   "cell_type": "code",
   "execution_count": 22,
   "metadata": {
    "ExecuteTime": {
     "end_time": "2021-07-20T00:21:55.092517Z",
     "start_time": "2021-07-20T00:21:54.602282Z"
    }
   },
   "outputs": [],
   "source": [
    "query = '''\n",
    "    DROP TABLE empresas\n",
    "'''\n",
    "\n",
    "cursor.execute(query)"
   ]
  },
  {
   "cell_type": "code",
   "execution_count": null,
   "metadata": {},
   "outputs": [],
   "source": []
  },
  {
   "cell_type": "markdown",
   "metadata": {},
   "source": [
    "###  Insert into table"
   ]
  },
  {
   "cell_type": "markdown",
   "metadata": {},
   "source": [
    "Agora que criamos uma tabela, podemos inserir valores nela"
   ]
  },
  {
   "cell_type": "code",
   "execution_count": 11,
   "metadata": {
    "ExecuteTime": {
     "end_time": "2021-07-20T22:14:30.331400Z",
     "start_time": "2021-07-20T22:14:30.072210Z"
    }
   },
   "outputs": [],
   "source": [
    "\n",
    "query = '''\n",
    "    INSERT INTO empresas(estabelecimento, receita, custo, anomes)\n",
    "    VALUES ('McDonalds', '5000', '4000', '201912')\n",
    "\n",
    "'''\n",
    "\n",
    "cursor.execute(query)"
   ]
  },
  {
   "cell_type": "code",
   "execution_count": 34,
   "metadata": {
    "ExecuteTime": {
     "end_time": "2021-07-20T00:40:23.501623Z",
     "start_time": "2021-07-20T00:40:23.482615Z"
    }
   },
   "outputs": [
    {
     "name": "stdout",
     "output_type": "stream",
     "text": [
      "o numero é 10\n",
      "o numero é 10\n"
     ]
    }
   ],
   "source": [
    "# f-string\n",
    "\n",
    "numero = 10\n",
    "\n",
    "print('o numero é', numero)\n",
    "print(f'o numero é {numero}')"
   ]
  },
  {
   "cell_type": "code",
   "execution_count": null,
   "metadata": {},
   "outputs": [],
   "source": [
    "val = (\"MCDonalds\",\"5000\",\"4000\",\"201912\")\n",
    "\n",
    "query = f'''INSERT INTO empresas(estabelecimento,receita, custo, anomes) \n",
    "            VALUES ('{val[0]}','{val[1]}','{val[2]}','{val[3]}')'''\n",
    "\n",
    "\n",
    "cursor.execute(query)"
   ]
  },
  {
   "cell_type": "code",
   "execution_count": null,
   "metadata": {},
   "outputs": [],
   "source": []
  },
  {
   "cell_type": "code",
   "execution_count": 7,
   "metadata": {
    "ExecuteTime": {
     "end_time": "2021-07-20T22:13:03.333149Z",
     "start_time": "2021-07-20T22:13:03.309146Z"
    }
   },
   "outputs": [],
   "source": [
    "def input_data(con=con, cursor=cursor):\n",
    "    print('Nome da empresa: ')\n",
    "    estabelecimento = input()\n",
    "    print('Receita da empresa: ')\n",
    "    receita = input()\n",
    "    print('Custo da empresa: ')\n",
    "    custo = input()\n",
    "    print('Ano e mês: ')\n",
    "    anomes = input()\n",
    "    \n",
    "    query = f''' INSERT INTO empresas(estabelecimento, receita,\n",
    "                                      custo, anomes)\n",
    "                 VALUES ('{estabelecimento}', '{receita}',\n",
    "                         '{custo}', '{anomes}')    \n",
    "    '''''\n",
    "    cursor.execute(query)\n",
    "    print('Data inserted!')    "
   ]
  },
  {
   "cell_type": "code",
   "execution_count": 8,
   "metadata": {
    "ExecuteTime": {
     "end_time": "2021-07-20T22:13:28.724660Z",
     "start_time": "2021-07-20T22:13:12.491298Z"
    }
   },
   "outputs": [
    {
     "name": "stdout",
     "output_type": "stream",
     "text": [
      "Nome da empresa: \n",
      "Bullguer\n",
      "Receita da empresa: \n",
      "60\n",
      "Custo da empresa: \n",
      "30\n",
      "Ano e mês: \n",
      "202107\n",
      "Data inserted!\n"
     ]
    }
   ],
   "source": [
    "input_data()"
   ]
  },
  {
   "cell_type": "code",
   "execution_count": 9,
   "metadata": {
    "ExecuteTime": {
     "end_time": "2021-07-20T22:13:44.700699Z",
     "start_time": "2021-07-20T22:13:43.528263Z"
    }
   },
   "outputs": [],
   "source": [
    "import pandas as pd"
   ]
  },
  {
   "cell_type": "code",
   "execution_count": 10,
   "metadata": {
    "ExecuteTime": {
     "end_time": "2021-07-20T22:14:04.218863Z",
     "start_time": "2021-07-20T22:14:03.165870Z"
    }
   },
   "outputs": [
    {
     "data": {
      "text/html": [
       "<div>\n",
       "<style scoped>\n",
       "    .dataframe tbody tr th:only-of-type {\n",
       "        vertical-align: middle;\n",
       "    }\n",
       "\n",
       "    .dataframe tbody tr th {\n",
       "        vertical-align: top;\n",
       "    }\n",
       "\n",
       "    .dataframe thead th {\n",
       "        text-align: right;\n",
       "    }\n",
       "</style>\n",
       "<table border=\"1\" class=\"dataframe\">\n",
       "  <thead>\n",
       "    <tr style=\"text-align: right;\">\n",
       "      <th></th>\n",
       "      <th>estabelecimento</th>\n",
       "      <th>receita</th>\n",
       "      <th>custo</th>\n",
       "      <th>anomes</th>\n",
       "    </tr>\n",
       "  </thead>\n",
       "  <tbody>\n",
       "    <tr>\n",
       "      <th>0</th>\n",
       "      <td>Bullguer</td>\n",
       "      <td>60</td>\n",
       "      <td>30</td>\n",
       "      <td>202107</td>\n",
       "    </tr>\n",
       "  </tbody>\n",
       "</table>\n",
       "</div>"
      ],
      "text/plain": [
       "  estabelecimento  receita  custo  anomes\n",
       "0        Bullguer       60     30  202107"
      ]
     },
     "execution_count": 10,
     "metadata": {},
     "output_type": "execute_result"
    }
   ],
   "source": [
    "query = 'SELECT * FROM empresas'\n",
    "\n",
    "pd.read_sql(query, con)"
   ]
  },
  {
   "cell_type": "code",
   "execution_count": null,
   "metadata": {},
   "outputs": [],
   "source": []
  },
  {
   "cell_type": "markdown",
   "metadata": {},
   "source": [
    "###  Select"
   ]
  },
  {
   "cell_type": "markdown",
   "metadata": {},
   "source": [
    "Podemos checar os valores com o comando `Select`"
   ]
  },
  {
   "cell_type": "code",
   "execution_count": 29,
   "metadata": {
    "ExecuteTime": {
     "end_time": "2021-07-20T00:34:53.239869Z",
     "start_time": "2021-07-20T00:34:52.977311Z"
    }
   },
   "outputs": [
    {
     "data": {
      "text/plain": [
       "[('McDonalds', 5000, 4000, 201912)]"
      ]
     },
     "execution_count": 29,
     "metadata": {},
     "output_type": "execute_result"
    }
   ],
   "source": [
    "query = '''\n",
    "    SELECT estabelecimento, receita, custo, anomes\n",
    "    FROM empresas\n",
    "'''\n",
    "\n",
    "cursor.execute(query)\n",
    "cursor.fetchall()"
   ]
  },
  {
   "cell_type": "code",
   "execution_count": 30,
   "metadata": {
    "ExecuteTime": {
     "end_time": "2021-07-20T00:35:19.653500Z",
     "start_time": "2021-07-20T00:35:19.397352Z"
    }
   },
   "outputs": [
    {
     "data": {
      "text/plain": [
       "[('McDonalds', 5000, 4000, 201912)]"
      ]
     },
     "execution_count": 30,
     "metadata": {},
     "output_type": "execute_result"
    }
   ],
   "source": [
    "query = '''\n",
    "    SELECT *\n",
    "    FROM empresas\n",
    "'''\n",
    "\n",
    "cursor.execute(query)\n",
    "cursor.fetchall()"
   ]
  },
  {
   "cell_type": "markdown",
   "metadata": {},
   "source": [
    "- No caso de consulta, podemos usar a biblioteca de manipulação da dados `pandas`"
   ]
  },
  {
   "cell_type": "code",
   "execution_count": 31,
   "metadata": {
    "ExecuteTime": {
     "end_time": "2021-07-20T00:36:12.619561Z",
     "start_time": "2021-07-20T00:36:12.601556Z"
    }
   },
   "outputs": [],
   "source": [
    "import pandas as pd"
   ]
  },
  {
   "cell_type": "code",
   "execution_count": 12,
   "metadata": {
    "ExecuteTime": {
     "end_time": "2021-07-20T22:14:41.191300Z",
     "start_time": "2021-07-20T22:14:39.718540Z"
    }
   },
   "outputs": [
    {
     "ename": "TypeError",
     "evalue": "'NoneType' object is not iterable",
     "output_type": "error",
     "traceback": [
      "\u001b[1;31m---------------------------------------------------------------------------\u001b[0m",
      "\u001b[1;31mTypeError\u001b[0m                                 Traceback (most recent call last)",
      "\u001b[1;32m<ipython-input-12-682d31b13b0e>\u001b[0m in \u001b[0;36m<module>\u001b[1;34m\u001b[0m\n\u001b[1;32m----> 1\u001b[1;33m \u001b[0mpd\u001b[0m\u001b[1;33m.\u001b[0m\u001b[0mread_sql\u001b[0m\u001b[1;33m(\u001b[0m\u001b[0mquery\u001b[0m\u001b[1;33m,\u001b[0m \u001b[0mcon\u001b[0m\u001b[1;33m)\u001b[0m\u001b[1;33m\u001b[0m\u001b[1;33m\u001b[0m\u001b[0m\n\u001b[0m",
      "\u001b[1;32m~\\anaconda3\\lib\\site-packages\\pandas\\io\\sql.py\u001b[0m in \u001b[0;36mread_sql\u001b[1;34m(sql, con, index_col, coerce_float, params, parse_dates, columns, chunksize)\u001b[0m\n\u001b[0;32m    493\u001b[0m \u001b[1;33m\u001b[0m\u001b[0m\n\u001b[0;32m    494\u001b[0m     \u001b[1;32mif\u001b[0m \u001b[0misinstance\u001b[0m\u001b[1;33m(\u001b[0m\u001b[0mpandas_sql\u001b[0m\u001b[1;33m,\u001b[0m \u001b[0mSQLiteDatabase\u001b[0m\u001b[1;33m)\u001b[0m\u001b[1;33m:\u001b[0m\u001b[1;33m\u001b[0m\u001b[1;33m\u001b[0m\u001b[0m\n\u001b[1;32m--> 495\u001b[1;33m         return pandas_sql.read_query(\n\u001b[0m\u001b[0;32m    496\u001b[0m             \u001b[0msql\u001b[0m\u001b[1;33m,\u001b[0m\u001b[1;33m\u001b[0m\u001b[1;33m\u001b[0m\u001b[0m\n\u001b[0;32m    497\u001b[0m             \u001b[0mindex_col\u001b[0m\u001b[1;33m=\u001b[0m\u001b[0mindex_col\u001b[0m\u001b[1;33m,\u001b[0m\u001b[1;33m\u001b[0m\u001b[1;33m\u001b[0m\u001b[0m\n",
      "\u001b[1;32m~\\anaconda3\\lib\\site-packages\\pandas\\io\\sql.py\u001b[0m in \u001b[0;36mread_query\u001b[1;34m(self, sql, index_col, coerce_float, params, parse_dates, chunksize)\u001b[0m\n\u001b[0;32m   1770\u001b[0m         \u001b[0margs\u001b[0m \u001b[1;33m=\u001b[0m \u001b[0m_convert_params\u001b[0m\u001b[1;33m(\u001b[0m\u001b[0msql\u001b[0m\u001b[1;33m,\u001b[0m \u001b[0mparams\u001b[0m\u001b[1;33m)\u001b[0m\u001b[1;33m\u001b[0m\u001b[1;33m\u001b[0m\u001b[0m\n\u001b[0;32m   1771\u001b[0m         \u001b[0mcursor\u001b[0m \u001b[1;33m=\u001b[0m \u001b[0mself\u001b[0m\u001b[1;33m.\u001b[0m\u001b[0mexecute\u001b[0m\u001b[1;33m(\u001b[0m\u001b[1;33m*\u001b[0m\u001b[0margs\u001b[0m\u001b[1;33m)\u001b[0m\u001b[1;33m\u001b[0m\u001b[1;33m\u001b[0m\u001b[0m\n\u001b[1;32m-> 1772\u001b[1;33m         \u001b[0mcolumns\u001b[0m \u001b[1;33m=\u001b[0m \u001b[1;33m[\u001b[0m\u001b[0mcol_desc\u001b[0m\u001b[1;33m[\u001b[0m\u001b[1;36m0\u001b[0m\u001b[1;33m]\u001b[0m \u001b[1;32mfor\u001b[0m \u001b[0mcol_desc\u001b[0m \u001b[1;32min\u001b[0m \u001b[0mcursor\u001b[0m\u001b[1;33m.\u001b[0m\u001b[0mdescription\u001b[0m\u001b[1;33m]\u001b[0m\u001b[1;33m\u001b[0m\u001b[1;33m\u001b[0m\u001b[0m\n\u001b[0m\u001b[0;32m   1773\u001b[0m \u001b[1;33m\u001b[0m\u001b[0m\n\u001b[0;32m   1774\u001b[0m         \u001b[1;32mif\u001b[0m \u001b[0mchunksize\u001b[0m \u001b[1;32mis\u001b[0m \u001b[1;32mnot\u001b[0m \u001b[1;32mNone\u001b[0m\u001b[1;33m:\u001b[0m\u001b[1;33m\u001b[0m\u001b[1;33m\u001b[0m\u001b[0m\n",
      "\u001b[1;31mTypeError\u001b[0m: 'NoneType' object is not iterable"
     ]
    }
   ],
   "source": [
    "pd.read_sql(query, con)"
   ]
  },
  {
   "cell_type": "code",
   "execution_count": null,
   "metadata": {},
   "outputs": [],
   "source": [
    "# pandas permite rodar comandos sql do google big query\n",
    "pd.read_gbq()"
   ]
  },
  {
   "cell_type": "code",
   "execution_count": null,
   "metadata": {},
   "outputs": [],
   "source": []
  },
  {
   "cell_type": "markdown",
   "metadata": {},
   "source": [
    "###  Inserindo mais dados"
   ]
  },
  {
   "cell_type": "code",
   "execution_count": 13,
   "metadata": {
    "ExecuteTime": {
     "end_time": "2021-07-20T22:14:48.471052Z",
     "start_time": "2021-07-20T22:14:48.213359Z"
    }
   },
   "outputs": [],
   "source": [
    "val =  [(\"Wendys\",\"6000\",\"4500\",\"202001\"),\n",
    "        (\"Patties\",\"900\",\"900\",\"202001\"),\n",
    "        ('Zebeleo', '5', '10000', '202002'),\n",
    "        ('Koburger', '3000', '2500', '202002')]\n",
    "\n",
    "\n",
    "sql = '''INSERT INTO empresas(estabelecimento, receita, custo, anomes) \n",
    "          VALUES (%s, %s, %s, %s)'''\n",
    "\n",
    "\n",
    "cursor.executemany(sql, val)"
   ]
  },
  {
   "cell_type": "code",
   "execution_count": 14,
   "metadata": {
    "ExecuteTime": {
     "end_time": "2021-07-20T22:14:55.044539Z",
     "start_time": "2021-07-20T22:14:54.261596Z"
    }
   },
   "outputs": [
    {
     "data": {
      "text/html": [
       "<div>\n",
       "<style scoped>\n",
       "    .dataframe tbody tr th:only-of-type {\n",
       "        vertical-align: middle;\n",
       "    }\n",
       "\n",
       "    .dataframe tbody tr th {\n",
       "        vertical-align: top;\n",
       "    }\n",
       "\n",
       "    .dataframe thead th {\n",
       "        text-align: right;\n",
       "    }\n",
       "</style>\n",
       "<table border=\"1\" class=\"dataframe\">\n",
       "  <thead>\n",
       "    <tr style=\"text-align: right;\">\n",
       "      <th></th>\n",
       "      <th>estabelecimento</th>\n",
       "      <th>receita</th>\n",
       "      <th>custo</th>\n",
       "      <th>anomes</th>\n",
       "    </tr>\n",
       "  </thead>\n",
       "  <tbody>\n",
       "    <tr>\n",
       "      <th>0</th>\n",
       "      <td>Bullguer</td>\n",
       "      <td>60</td>\n",
       "      <td>30</td>\n",
       "      <td>202107</td>\n",
       "    </tr>\n",
       "    <tr>\n",
       "      <th>1</th>\n",
       "      <td>McDonalds</td>\n",
       "      <td>5000</td>\n",
       "      <td>4000</td>\n",
       "      <td>201912</td>\n",
       "    </tr>\n",
       "    <tr>\n",
       "      <th>2</th>\n",
       "      <td>McDonalds</td>\n",
       "      <td>5000</td>\n",
       "      <td>4000</td>\n",
       "      <td>201912</td>\n",
       "    </tr>\n",
       "    <tr>\n",
       "      <th>3</th>\n",
       "      <td>Wendys</td>\n",
       "      <td>6000</td>\n",
       "      <td>4500</td>\n",
       "      <td>202001</td>\n",
       "    </tr>\n",
       "    <tr>\n",
       "      <th>4</th>\n",
       "      <td>Patties</td>\n",
       "      <td>900</td>\n",
       "      <td>900</td>\n",
       "      <td>202001</td>\n",
       "    </tr>\n",
       "    <tr>\n",
       "      <th>5</th>\n",
       "      <td>Zebeleo</td>\n",
       "      <td>5</td>\n",
       "      <td>10000</td>\n",
       "      <td>202002</td>\n",
       "    </tr>\n",
       "    <tr>\n",
       "      <th>6</th>\n",
       "      <td>Koburger</td>\n",
       "      <td>3000</td>\n",
       "      <td>2500</td>\n",
       "      <td>202002</td>\n",
       "    </tr>\n",
       "  </tbody>\n",
       "</table>\n",
       "</div>"
      ],
      "text/plain": [
       "  estabelecimento  receita  custo  anomes\n",
       "0        Bullguer       60     30  202107\n",
       "1       McDonalds     5000   4000  201912\n",
       "2       McDonalds     5000   4000  201912\n",
       "3          Wendys     6000   4500  202001\n",
       "4         Patties      900    900  202001\n",
       "5         Zebeleo        5  10000  202002\n",
       "6        Koburger     3000   2500  202002"
      ]
     },
     "execution_count": 14,
     "metadata": {},
     "output_type": "execute_result"
    }
   ],
   "source": [
    "query = '''\n",
    "    SELECT * FROM empresas \n",
    "    \n",
    "'''\n",
    "\n",
    "pd.read_sql(query, con)"
   ]
  },
  {
   "cell_type": "markdown",
   "metadata": {},
   "source": [
    "### Delete "
   ]
  },
  {
   "cell_type": "markdown",
   "metadata": {},
   "source": [
    "Podemos deletar uma linha do banco de dados"
   ]
  },
  {
   "cell_type": "code",
   "execution_count": 16,
   "metadata": {
    "ExecuteTime": {
     "end_time": "2021-07-20T22:19:47.466192Z",
     "start_time": "2021-07-20T22:19:47.167675Z"
    }
   },
   "outputs": [],
   "source": [
    "query = '''\n",
    "    DELETE \n",
    "    FROM empresas\n",
    "    WHERE estabelecimento = 'Bullguer'    \n",
    "'''\n",
    "\n",
    "cursor.execute(query)"
   ]
  },
  {
   "cell_type": "code",
   "execution_count": 17,
   "metadata": {
    "ExecuteTime": {
     "end_time": "2021-07-20T22:19:56.086821Z",
     "start_time": "2021-07-20T22:19:55.334937Z"
    }
   },
   "outputs": [
    {
     "data": {
      "text/html": [
       "<div>\n",
       "<style scoped>\n",
       "    .dataframe tbody tr th:only-of-type {\n",
       "        vertical-align: middle;\n",
       "    }\n",
       "\n",
       "    .dataframe tbody tr th {\n",
       "        vertical-align: top;\n",
       "    }\n",
       "\n",
       "    .dataframe thead th {\n",
       "        text-align: right;\n",
       "    }\n",
       "</style>\n",
       "<table border=\"1\" class=\"dataframe\">\n",
       "  <thead>\n",
       "    <tr style=\"text-align: right;\">\n",
       "      <th></th>\n",
       "      <th>estabelecimento</th>\n",
       "      <th>receita</th>\n",
       "      <th>custo</th>\n",
       "      <th>anomes</th>\n",
       "    </tr>\n",
       "  </thead>\n",
       "  <tbody>\n",
       "    <tr>\n",
       "      <th>0</th>\n",
       "      <td>McDonalds</td>\n",
       "      <td>5000</td>\n",
       "      <td>4000</td>\n",
       "      <td>201912</td>\n",
       "    </tr>\n",
       "    <tr>\n",
       "      <th>1</th>\n",
       "      <td>McDonalds</td>\n",
       "      <td>5000</td>\n",
       "      <td>4000</td>\n",
       "      <td>201912</td>\n",
       "    </tr>\n",
       "    <tr>\n",
       "      <th>2</th>\n",
       "      <td>Wendys</td>\n",
       "      <td>6000</td>\n",
       "      <td>4500</td>\n",
       "      <td>202001</td>\n",
       "    </tr>\n",
       "    <tr>\n",
       "      <th>3</th>\n",
       "      <td>Patties</td>\n",
       "      <td>900</td>\n",
       "      <td>900</td>\n",
       "      <td>202001</td>\n",
       "    </tr>\n",
       "    <tr>\n",
       "      <th>4</th>\n",
       "      <td>Zebeleo</td>\n",
       "      <td>5</td>\n",
       "      <td>10000</td>\n",
       "      <td>202002</td>\n",
       "    </tr>\n",
       "    <tr>\n",
       "      <th>5</th>\n",
       "      <td>Koburger</td>\n",
       "      <td>3000</td>\n",
       "      <td>2500</td>\n",
       "      <td>202002</td>\n",
       "    </tr>\n",
       "  </tbody>\n",
       "</table>\n",
       "</div>"
      ],
      "text/plain": [
       "  estabelecimento  receita  custo  anomes\n",
       "0       McDonalds     5000   4000  201912\n",
       "1       McDonalds     5000   4000  201912\n",
       "2          Wendys     6000   4500  202001\n",
       "3         Patties      900    900  202001\n",
       "4         Zebeleo        5  10000  202002\n",
       "5        Koburger     3000   2500  202002"
      ]
     },
     "execution_count": 17,
     "metadata": {},
     "output_type": "execute_result"
    }
   ],
   "source": [
    "query = '''\n",
    "    SELECT * FROM empresas \n",
    "    \n",
    "'''\n",
    "\n",
    "pd.read_sql(query, con)"
   ]
  },
  {
   "cell_type": "markdown",
   "metadata": {},
   "source": [
    "### Update"
   ]
  },
  {
   "cell_type": "markdown",
   "metadata": {},
   "source": [
    "Podemos atualizar um valor da tabela"
   ]
  },
  {
   "cell_type": "code",
   "execution_count": 18,
   "metadata": {
    "ExecuteTime": {
     "end_time": "2021-07-20T22:21:34.360808Z",
     "start_time": "2021-07-20T22:21:34.082487Z"
    }
   },
   "outputs": [],
   "source": [
    "query = '''\n",
    "    UPDATE empresas\n",
    "    SET estabelecimento = 'Hamburgueria'\n",
    "    WHERE estabelecimento = 'Patties'\n",
    "'''\n",
    "cursor.execute(query)"
   ]
  },
  {
   "cell_type": "code",
   "execution_count": 19,
   "metadata": {
    "ExecuteTime": {
     "end_time": "2021-07-20T22:21:41.595200Z",
     "start_time": "2021-07-20T22:21:40.841089Z"
    }
   },
   "outputs": [
    {
     "data": {
      "text/html": [
       "<div>\n",
       "<style scoped>\n",
       "    .dataframe tbody tr th:only-of-type {\n",
       "        vertical-align: middle;\n",
       "    }\n",
       "\n",
       "    .dataframe tbody tr th {\n",
       "        vertical-align: top;\n",
       "    }\n",
       "\n",
       "    .dataframe thead th {\n",
       "        text-align: right;\n",
       "    }\n",
       "</style>\n",
       "<table border=\"1\" class=\"dataframe\">\n",
       "  <thead>\n",
       "    <tr style=\"text-align: right;\">\n",
       "      <th></th>\n",
       "      <th>estabelecimento</th>\n",
       "      <th>receita</th>\n",
       "      <th>custo</th>\n",
       "      <th>anomes</th>\n",
       "    </tr>\n",
       "  </thead>\n",
       "  <tbody>\n",
       "    <tr>\n",
       "      <th>0</th>\n",
       "      <td>McDonalds</td>\n",
       "      <td>5000</td>\n",
       "      <td>4000</td>\n",
       "      <td>201912</td>\n",
       "    </tr>\n",
       "    <tr>\n",
       "      <th>1</th>\n",
       "      <td>McDonalds</td>\n",
       "      <td>5000</td>\n",
       "      <td>4000</td>\n",
       "      <td>201912</td>\n",
       "    </tr>\n",
       "    <tr>\n",
       "      <th>2</th>\n",
       "      <td>Wendys</td>\n",
       "      <td>6000</td>\n",
       "      <td>4500</td>\n",
       "      <td>202001</td>\n",
       "    </tr>\n",
       "    <tr>\n",
       "      <th>3</th>\n",
       "      <td>Hamburgueria</td>\n",
       "      <td>900</td>\n",
       "      <td>900</td>\n",
       "      <td>202001</td>\n",
       "    </tr>\n",
       "    <tr>\n",
       "      <th>4</th>\n",
       "      <td>Zebeleo</td>\n",
       "      <td>5</td>\n",
       "      <td>10000</td>\n",
       "      <td>202002</td>\n",
       "    </tr>\n",
       "    <tr>\n",
       "      <th>5</th>\n",
       "      <td>Koburger</td>\n",
       "      <td>3000</td>\n",
       "      <td>2500</td>\n",
       "      <td>202002</td>\n",
       "    </tr>\n",
       "  </tbody>\n",
       "</table>\n",
       "</div>"
      ],
      "text/plain": [
       "  estabelecimento  receita  custo  anomes\n",
       "0       McDonalds     5000   4000  201912\n",
       "1       McDonalds     5000   4000  201912\n",
       "2          Wendys     6000   4500  202001\n",
       "3    Hamburgueria      900    900  202001\n",
       "4         Zebeleo        5  10000  202002\n",
       "5        Koburger     3000   2500  202002"
      ]
     },
     "execution_count": 19,
     "metadata": {},
     "output_type": "execute_result"
    }
   ],
   "source": [
    "query = '''\n",
    "    SELECT * FROM empresas     \n",
    "'''\n",
    "\n",
    "pd.read_sql(query, con)"
   ]
  }
 ],
 "metadata": {
  "hide_input": false,
  "kernelspec": {
   "display_name": "Python 3",
   "language": "python",
   "name": "python3"
  },
  "language_info": {
   "codemirror_mode": {
    "name": "ipython",
    "version": 3
   },
   "file_extension": ".py",
   "mimetype": "text/x-python",
   "name": "python",
   "nbconvert_exporter": "python",
   "pygments_lexer": "ipython3",
   "version": "3.8.3"
  },
  "toc": {
   "base_numbering": 1,
   "nav_menu": {},
   "number_sections": true,
   "sideBar": true,
   "skip_h1_title": false,
   "title_cell": "Table of Contents",
   "title_sidebar": "Contents",
   "toc_cell": false,
   "toc_position": {
    "height": "calc(100% - 180px)",
    "left": "10px",
    "top": "150px",
    "width": "202.057px"
   },
   "toc_section_display": true,
   "toc_window_display": true
  },
  "varInspector": {
   "cols": {
    "lenName": 16,
    "lenType": 16,
    "lenVar": 40
   },
   "kernels_config": {
    "python": {
     "delete_cmd_postfix": "",
     "delete_cmd_prefix": "del ",
     "library": "var_list.py",
     "varRefreshCmd": "print(var_dic_list())"
    },
    "r": {
     "delete_cmd_postfix": ") ",
     "delete_cmd_prefix": "rm(",
     "library": "var_list.r",
     "varRefreshCmd": "cat(var_dic_list()) "
    }
   },
   "types_to_exclude": [
    "module",
    "function",
    "builtin_function_or_method",
    "instance",
    "_Feature"
   ],
   "window_display": false
  }
 },
 "nbformat": 4,
 "nbformat_minor": 2
}
