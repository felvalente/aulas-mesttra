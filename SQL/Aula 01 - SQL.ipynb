{
 "cells": [
  {
   "cell_type": "markdown",
   "metadata": {},
   "source": [
    "# Aula 1: SQL"
   ]
  },
  {
   "cell_type": "markdown",
   "metadata": {},
   "source": [
    "## Introdução\n",
    "\n",
    "- SQL é uma linguagem padrão para trabalhar com bancos de dados relacionais\n",
    "- É uma linguagem declarativa e que não necessita de profundos conhecimentos de programação para que alguém possa começar a escrever queries\n",
    "- SQL é acrônimo de Structured Query Language, literalmente a linguagem struturada para realizar queries.\n",
    "- Apesar de existirem diversos bancos de dados relacionais, cada um com sua funcionalidade, todos possuem comandos básicos que podem ser aplicados em qualquer banco de dados:\n",
    "\n",
    "![](https://cdn-images-1.medium.com/fit/t/1600/480/1*LcXr-gRpSfe63XjdCVa15A.png)"
   ]
  },
  {
   "cell_type": "markdown",
   "metadata": {},
   "source": [
    "- Nessa aula usaremos o site https://www.db4free.net/, que utiliza MySQL\n",
    "- Antes de começarmos, criem uma conta no DB4Free"
   ]
  },
  {
   "cell_type": "markdown",
   "metadata": {},
   "source": [
    "## Conceitos"
   ]
  },
  {
   "cell_type": "markdown",
   "metadata": {},
   "source": [
    "### Modelo relacional"
   ]
  },
  {
   "cell_type": "markdown",
   "metadata": {},
   "source": [
    "- O Modelo entidade relacionamento proposto por Peter P. Chen pode ser melhor compreendido por uma teoria chamada de A lei do Mundo, teoria essa, que conceitua que o mundo está cheio de coisas que possuem características próprias e que se **relacionam entre si**. Sua analise da teoria pode ser dividida em três partes:"
   ]
  },
  {
   "cell_type": "markdown",
   "metadata": {},
   "source": [
    "- **O mundo está cheio de coisas**\n",
    "    - Tudo que possa ser caracterizado, conceituado, real ou imaginário, no nosso Universo (Mundo), é definido como coisa, que futuramente, dependendo da abordagem, poderá ser definido como uma **entidade.**\n",
    "\n",
    "- **Que possuem características próprias**\n",
    "    - **Características** comuns percebidas entre as coisas de modo que haja a possibilidade de enquadramento dessas coisas em conjuntos particulares\n",
    "    - Exemplo: “conselho de economia, conselho de medicina, conselho de odontologia” todos podem ser enquadrados em um mesmo conjunto, denominado como Órgão normalizador.\n",
    "\n",
    "- **E que se relacionam entre si**\n",
    "    - São as **relações entre as coisas**. Como as mesmas irão relaciona-se entre elementos individualizados de diferentes conjuntos ou entre elementos de um mesmo conjunto. A forma de comunicação entre as coisas ou um conjunto delas\n",
    "    - Exemplos: Adail é credenciado pelo conselho de economia é um relacionamento entre elementos de diferentes conjuntos. Adail é substituto de Caio é um relacionamento entre elementos do mesmo conjunto."
   ]
  },
  {
   "cell_type": "markdown",
   "metadata": {},
   "source": [
    "![](https://consultabd.files.wordpress.com/2019/08/img_relacional-1.jpg)"
   ]
  },
  {
   "cell_type": "markdown",
   "metadata": {},
   "source": [
    "### Banco de dados"
   ]
  },
  {
   "cell_type": "markdown",
   "metadata": {},
   "source": [
    "- **Coleção de dados ou informações relacionadas entre si**\n",
    "- Coleção lógica e coerente de dados com algum significado inerente\n",
    "- Projetado, construído e povoado por dados, atendendo uma proposta específica\n",
    "- Dados organizados que se relacionam para criar algum sentido (informação)\n",
    "\n",
    "![](https://encrypted-tbn0.gstatic.com/images?q=tbn:ANd9GcR6BA4uD8n7lv7BCiSyckzIJfzu2Zgssgg5GQ&usqp=CAU)"
   ]
  },
  {
   "cell_type": "markdown",
   "metadata": {},
   "source": [
    "### SGBD - Sistema de gerenciamento de banco de dados"
   ]
  },
  {
   "cell_type": "markdown",
   "metadata": {},
   "source": [
    "- Um Sistema de Gerenciamento de Banco de Dados (SGBD) — do inglês Data Base Management System (DBMS) — é o sistema de software responsável pelo gerenciamento de um ou mais bancos de dados\n",
    "- Seu principal **objetivo é retirar da aplicação cliente a responsabilidade de gerenciar o acesso, a persistência, a manipulação e a organização dos dados**\n",
    "- O SGBD disponibiliza uma interface para que seus clientes possam incluir, alterar ou consultar dados previamente armazenados\n",
    "- Em bancos de dados relacionais a interface é constituída pelas APIs (Application Programming Interface) ou drivers do SGBD, que executam comandos na linguagem SQL (Structured Query Language)."
   ]
  },
  {
   "cell_type": "markdown",
   "metadata": {},
   "source": [
    "![](https://dicasdeprogramacao.com.br/images/o-que-e-um-sgbd/destaque-600x315.png)"
   ]
  },
  {
   "cell_type": "markdown",
   "metadata": {},
   "source": [
    "### Metadados"
   ]
  },
  {
   "cell_type": "markdown",
   "metadata": {},
   "source": [
    "- O prefixo \"Meta\" vem do grego e significa \"além de\". Assim Metadados são **informações que acrescem aos dados e que têm como objetivo informar-nos sobre eles para tornar mais fácil a sua organização.**\n",
    "- Um item de um metadado pode informar do que se trata aquele dado numa linguagem inteligível para um computador\n",
    "- Os metadados tem a **função de facilitar o entendimento dos relacionamentos e evidenciar a utilidade das informações dos dados**\n",
    "\n",
    "- Praticamente todos os dispositivos digitais geram metadados a partir do uso que fazemos\n",
    "    - Por exemplo, ao tirar uma foto, além de gravar a foto na memória da foto, metadados são associados a esta foto descrevendo informações sobre o modelo da câmera, tipo de ISO, data, tamanho e formato do arquivo e até o local de onde a foto foi tirada se o aparelho tiver GPS.\n",
    "\n",
    "- Ao fazer login em um site de redes sociais ou de compras várias informações são registradas além daquelas que escrevemos diretamente nos sites, como por exemplo, o endereço IP, o nome e versão do navegador, horário exato de entrada e saída, bem como outros detalhes sobre os seus cliques durante aquela navegação.\n",
    "\n",
    "- Os tipos mais comuns de metadados são:\n",
    "\n",
    "    - Número de telefones, endereços de email e os nomes das pessoas que usam serviços;\n",
    "\n",
    "    - Dados de Localização: onde está o seu telefone celular;\n",
    "\n",
    "    - Data e hora em que foram feitas as ligações, emails, arquivos e fotos;\n",
    "\n",
    "    - Informações do aparelho que você está usando;\n",
    "\n",
    "    - Os títulos (assuntos) de seus e-mails;"
   ]
  },
  {
   "cell_type": "markdown",
   "metadata": {},
   "source": [
    "![](http://blog.simbiox.com.br/wp-content/uploads/2020/05/Ilustra%C3%A7%C3%A3o_-Metadados_Blog.png)"
   ]
  },
  {
   "cell_type": "markdown",
   "metadata": {},
   "source": [
    "### Chave primária\n",
    "A chave primária, ou `primary key`, é o conceito mais básico relacionado à organização em um banco de dados. Toda tabela possuirá uma, e somente uma, chave primária. Essa chave é utilizada como identificador único da tabela, sendo representada por aquele campo (ou campos) que não receberá valores repetidos.\n",
    "\n",
    "Por causa disso, existe uma lista de características que deve ser levada em consideração ao definir uma chave primária:"
   ]
  },
  {
   "cell_type": "markdown",
   "metadata": {},
   "source": [
    "- Chaves primárias não podem ser nulas;\n",
    "- Cada registro na tabela deve possuir uma, e somente uma, chave primária;\n",
    "- Normalmente, chaves primárias são incrementadas automaticamente pelo banco de dados, ou seja, não há necessidade de passarmos esse valor em um INSERT\n",
    "    - Entretanto, essa é uma opção configurada na criação da base de dados que não é obrigatória\n",
    "    - Nos casos em que ela (incremento automático) não é definida, é preciso garantir que não haverá valores repetidos nessa coluna\n",
    "- São as chaves para o relacionamento entre entidades ou tabelas da base de dados. Assim haverá na tabela relacionada uma referência a essa chave primária (que será, na tabela relacionada, a chave estrangeira)."
   ]
  },
  {
   "cell_type": "markdown",
   "metadata": {},
   "source": [
    "`CREATE TABLE tbl_Clientes\n",
    "(\n",
    "    ID_Cliente integer PRIMARY KEY,\n",
    "    Nome_Cliente varchar(255),\n",
    "    CPF_Cliente varchar(255),\n",
    "    Data_Nasc varchar(255)\n",
    ");`"
   ]
  },
  {
   "cell_type": "markdown",
   "metadata": {},
   "source": [
    "### Chave estrangeira\n",
    "A chave estrangeira, ou `foreign key`, é um conceito ligeiramente diferente. Ela não diz respeito, especificamente, a uma tabela, mas sim a um relacionamento entre tabelas\n",
    "\n",
    "De forma sucinta, a chave estrangeira é uma referência em uma tabela a uma chave primária de outra tabela. Para facilitar a compreensão, tomemos como exemplo duas tabelas: `tbl_Clientes` e `tbl_Vendas`\n",
    "\n",
    "Para montarmos um relacionamento entre elas poderíamos ter na tabela `tbl_Vendas` o campo `ID_Cliente` fazendo referência à chave primária da tabela `tbl_Clientes`.\n",
    "\n",
    "\n",
    "Diferentemente da chave primária, a chave estrangeira:\n",
    "\n",
    "- Pode ser nula (NOT NULL)\n",
    "- É um campo em uma tabela que faz **referência a um campo que é chave primária em outra tabela**\n",
    "- É possível ter mais de uma (ou nenhuma) em uma tabela"
   ]
  },
  {
   "cell_type": "markdown",
   "metadata": {},
   "source": [
    "![](https://lh3.googleusercontent.com/proxy/wOirYDH_e0CyjwRNTu8kV7bGkS_QogMdbRxlgMOwuQMttFOWEPBNEfnIo5mk3tH5WyxzcilXd3CGaxGAE3kVytvt4KRxNKnAmMj7sxC1SbMD8C3JZ1wjxSpKEZGkD8vbPlWIRSGnECym7L6fdmIkU4aDjOkLRpL_tfVe2BCOx5ImLxkT)"
   ]
  },
  {
   "cell_type": "markdown",
   "metadata": {},
   "source": [
    "![](https://miro.medium.com/max/1400/1*wr_PNTP9fQHxXeMydaSfnQ.jpeg)"
   ]
  },
  {
   "cell_type": "markdown",
   "metadata": {},
   "source": [
    "## Conexao no db4free"
   ]
  },
  {
   "cell_type": "markdown",
   "metadata": {},
   "source": [
    "- Para trabalhar com bancos de dados, temos que fazer uma conexão do nosso jupyter notebook com o banco de dados\n",
    "- Antes disso, para evitar que nossos dados fiquem expostos no notebook e facilitar a manutenção de código, podemos criar um arquivo `yml` e adicionar nossas credenciais no formato:\n",
    "    - `user: 'usuario'`\n",
    "    - `password: 'senha'`\n",
    "    - `host: 'db4free.net'`\n",
    "    - `database: 'database'`\n",
    "    - `port: porta`\n",
    "- **IMPORTANTE:** nao por senha com caracter especial (ex: \"@\")"
   ]
  },
  {
   "cell_type": "code",
   "execution_count": null,
   "metadata": {},
   "outputs": [],
   "source": []
  },
  {
   "cell_type": "code",
   "execution_count": null,
   "metadata": {},
   "outputs": [],
   "source": [
    "# instalar yaml\n",
    "!pip install -U PyYAML"
   ]
  },
  {
   "cell_type": "code",
   "execution_count": 1,
   "metadata": {
    "ExecuteTime": {
     "end_time": "2021-07-19T20:50:02.502893Z",
     "start_time": "2021-07-19T20:50:02.408897Z"
    }
   },
   "outputs": [],
   "source": [
    "import yaml"
   ]
  },
  {
   "cell_type": "code",
   "execution_count": 2,
   "metadata": {
    "ExecuteTime": {
     "end_time": "2021-07-19T20:50:02.674991Z",
     "start_time": "2021-07-19T20:50:02.657002Z"
    }
   },
   "outputs": [],
   "source": [
    "# Load SQL credentials\n",
    "with open('credentials.yml', 'r') as file:\n",
    "    credentials = yaml.load(file, Loader=yaml.FullLoader)"
   ]
  },
  {
   "cell_type": "markdown",
   "metadata": {},
   "source": [
    "- Uma vez que importamos as credenciais, podemos fazer a conexão com o banco de dados"
   ]
  },
  {
   "cell_type": "code",
   "execution_count": null,
   "metadata": {},
   "outputs": [],
   "source": [
    "# instalar conector mysql\n",
    "!pip install mysql-connector-python"
   ]
  },
  {
   "cell_type": "code",
   "execution_count": 3,
   "metadata": {
    "ExecuteTime": {
     "end_time": "2021-07-19T20:50:07.845713Z",
     "start_time": "2021-07-19T20:50:07.780666Z"
    }
   },
   "outputs": [],
   "source": [
    "# importando libs necessárias\n",
    "import mysql.connector"
   ]
  },
  {
   "cell_type": "code",
   "execution_count": 4,
   "metadata": {
    "ExecuteTime": {
     "end_time": "2021-07-19T20:50:38.388498Z",
     "start_time": "2021-07-19T20:50:08.370396Z"
    }
   },
   "outputs": [],
   "source": [
    "#Conectando\n",
    "con = mysql.connector.connect(user=credentials['user'], \n",
    "                              password=credentials['password'],\n",
    "                              host=credentials['host'],\n",
    "                              database=credentials['database'],\n",
    "                              port=credentials['port'])\n",
    "\n",
    "cursor = con.cursor()"
   ]
  },
  {
   "cell_type": "markdown",
   "metadata": {},
   "source": [
    "## Queries de criação e manipulação de tabelas"
   ]
  },
  {
   "cell_type": "markdown",
   "metadata": {},
   "source": [
    "- Agora que estabelecemos a conexão com o banco de dados, podemos começar a aplicar as queries\n",
    "- Podemos escrever as queries dentro da variável `query` e o `cursor.execute(query)` aplica a query"
   ]
  },
  {
   "cell_type": "markdown",
   "metadata": {},
   "source": [
    "### Show tables"
   ]
  },
  {
   "cell_type": "markdown",
   "metadata": {},
   "source": [
    "Mostrar tabelas do banco de dados"
   ]
  },
  {
   "cell_type": "code",
   "execution_count": 9,
   "metadata": {
    "ExecuteTime": {
     "end_time": "2021-07-19T20:52:15.846933Z",
     "start_time": "2021-07-19T20:52:15.580248Z"
    },
    "scrolled": true
   },
   "outputs": [],
   "source": [
    "query = '''\n",
    "    SHOW TABLES\n",
    "'''\n",
    "\n",
    "cursor.execute(query)"
   ]
  },
  {
   "cell_type": "markdown",
   "metadata": {},
   "source": [
    "Buscar o resultado da query com o método `fetchall`"
   ]
  },
  {
   "cell_type": "code",
   "execution_count": 10,
   "metadata": {
    "ExecuteTime": {
     "end_time": "2021-07-19T20:52:16.563847Z",
     "start_time": "2021-07-19T20:52:16.550847Z"
    },
    "scrolled": true
   },
   "outputs": [
    {
     "data": {
      "text/plain": [
       "[(bytearray(b'AtrasoCartaoCredito'),),\n",
       " (bytearray(b'Customers'),),\n",
       " (bytearray(b'Customers2'),),\n",
       " (bytearray(b'df_a'),),\n",
       " (bytearray(b'df_b'),),\n",
       " (bytearray(b'empresas'),),\n",
       " (bytearray(b'empresas2'),)]"
      ]
     },
     "execution_count": 10,
     "metadata": {},
     "output_type": "execute_result"
    }
   ],
   "source": [
    "cursor.fetchall()"
   ]
  },
  {
   "cell_type": "markdown",
   "metadata": {},
   "source": [
    "### Create table"
   ]
  },
  {
   "cell_type": "markdown",
   "metadata": {},
   "source": [
    "Criar tabela"
   ]
  },
  {
   "cell_type": "code",
   "execution_count": 14,
   "metadata": {
    "ExecuteTime": {
     "end_time": "2021-07-19T20:52:48.769748Z",
     "start_time": "2021-07-19T20:52:47.556274Z"
    },
    "scrolled": true
   },
   "outputs": [],
   "source": [
    "query = '''CREATE TABLE empresas(estabelecimento CHAR(40),\n",
    "                               receita INT,\n",
    "                               custo INT,\n",
    "                               anomes INT)'''\n",
    "cursor.execute(query)"
   ]
  },
  {
   "cell_type": "markdown",
   "metadata": {},
   "source": [
    "### Drop table"
   ]
  },
  {
   "cell_type": "markdown",
   "metadata": {},
   "source": [
    "Deletar tabela"
   ]
  },
  {
   "cell_type": "code",
   "execution_count": 11,
   "metadata": {
    "ExecuteTime": {
     "end_time": "2021-07-19T20:52:19.643266Z",
     "start_time": "2021-07-19T20:52:18.899569Z"
    }
   },
   "outputs": [],
   "source": [
    "query = '''\n",
    "    DROP TABLE empresas\n",
    "'''\n",
    "\n",
    "cursor.execute(query)"
   ]
  },
  {
   "cell_type": "markdown",
   "metadata": {},
   "source": [
    "###  Insert into table"
   ]
  },
  {
   "cell_type": "markdown",
   "metadata": {},
   "source": [
    "Agora que criamos uma tabela, podemos inserir valores nela"
   ]
  },
  {
   "cell_type": "code",
   "execution_count": 15,
   "metadata": {
    "ExecuteTime": {
     "end_time": "2021-07-19T20:52:49.226838Z",
     "start_time": "2021-07-19T20:52:48.965906Z"
    }
   },
   "outputs": [],
   "source": [
    "val = (\"MCDonalds\",\"5000\",\"4000\",\"201912\")\n",
    "\n",
    "query = f'''INSERT INTO empresas(estabelecimento,receita, custo, anomes) \n",
    "VALUES ('{val[0]}','{val[1]}','{val[2]}','{val[3]}')'''\n",
    "\n",
    "\n",
    "cursor.execute(query)"
   ]
  },
  {
   "cell_type": "markdown",
   "metadata": {},
   "source": [
    "###  Select"
   ]
  },
  {
   "cell_type": "markdown",
   "metadata": {},
   "source": [
    "Podemos checar os valores com o comando `Select`"
   ]
  },
  {
   "cell_type": "code",
   "execution_count": 23,
   "metadata": {
    "ExecuteTime": {
     "end_time": "2021-07-19T21:02:52.949818Z",
     "start_time": "2021-07-19T21:02:52.695818Z"
    }
   },
   "outputs": [
    {
     "name": "stdout",
     "output_type": "stream",
     "text": [
      "[('Mequi_1000', 5000, 4000, 201912), ('Wendys', 6000, 4500, 202001), ('Patties', 900, 900, 202001), ('Zebeleo', 5, 10000, 202002), ('Koburger', 3000, 2500, 202002)]\n"
     ]
    }
   ],
   "source": [
    "query = \"SELECT * FROM empresas\"\n",
    "\n",
    "cursor.execute(query)\n",
    "\n",
    "resultado = cursor.fetchall()\n",
    "\n",
    "\n",
    "print(resultado)"
   ]
  },
  {
   "cell_type": "markdown",
   "metadata": {},
   "source": [
    "- No caso de consulta, podemos usar a biblioteca de manipulação da dados `pandas`"
   ]
  },
  {
   "cell_type": "code",
   "execution_count": 7,
   "metadata": {
    "ExecuteTime": {
     "end_time": "2021-07-06T22:08:54.971395Z",
     "start_time": "2021-07-06T22:08:54.163952Z"
    }
   },
   "outputs": [],
   "source": [
    "import pandas as pd"
   ]
  },
  {
   "cell_type": "code",
   "execution_count": 35,
   "metadata": {
    "ExecuteTime": {
     "end_time": "2021-07-10T12:37:16.016398Z",
     "start_time": "2021-07-10T12:37:15.264249Z"
    }
   },
   "outputs": [
    {
     "data": {
      "text/html": [
       "<div>\n",
       "<style scoped>\n",
       "    .dataframe tbody tr th:only-of-type {\n",
       "        vertical-align: middle;\n",
       "    }\n",
       "\n",
       "    .dataframe tbody tr th {\n",
       "        vertical-align: top;\n",
       "    }\n",
       "\n",
       "    .dataframe thead th {\n",
       "        text-align: right;\n",
       "    }\n",
       "</style>\n",
       "<table border=\"1\" class=\"dataframe\">\n",
       "  <thead>\n",
       "    <tr style=\"text-align: right;\">\n",
       "      <th></th>\n",
       "      <th>estabelecimento</th>\n",
       "      <th>receita</th>\n",
       "      <th>custo</th>\n",
       "      <th>anomes</th>\n",
       "    </tr>\n",
       "  </thead>\n",
       "  <tbody>\n",
       "    <tr>\n",
       "      <th>0</th>\n",
       "      <td>Subway</td>\n",
       "      <td>800</td>\n",
       "      <td>900</td>\n",
       "      <td>202001</td>\n",
       "    </tr>\n",
       "    <tr>\n",
       "      <th>1</th>\n",
       "      <td>Girafas</td>\n",
       "      <td>8700</td>\n",
       "      <td>6400</td>\n",
       "      <td>202001</td>\n",
       "    </tr>\n",
       "    <tr>\n",
       "      <th>2</th>\n",
       "      <td>Habibs</td>\n",
       "      <td>9800</td>\n",
       "      <td>2700</td>\n",
       "      <td>202002</td>\n",
       "    </tr>\n",
       "    <tr>\n",
       "      <th>3</th>\n",
       "      <td>KFC</td>\n",
       "      <td>6400</td>\n",
       "      <td>8760</td>\n",
       "      <td>202002</td>\n",
       "    </tr>\n",
       "  </tbody>\n",
       "</table>\n",
       "</div>"
      ],
      "text/plain": [
       "  estabelecimento  receita  custo  anomes\n",
       "0          Subway      800    900  202001\n",
       "1         Girafas     8700   6400  202001\n",
       "2          Habibs     9800   2700  202002\n",
       "3             KFC     6400   8760  202002"
      ]
     },
     "execution_count": 35,
     "metadata": {},
     "output_type": "execute_result"
    }
   ],
   "source": [
    "pd.read_sql(query, con)"
   ]
  },
  {
   "cell_type": "markdown",
   "metadata": {},
   "source": [
    "###  Inserindo mais dados"
   ]
  },
  {
   "cell_type": "code",
   "execution_count": 16,
   "metadata": {
    "ExecuteTime": {
     "end_time": "2021-07-19T20:52:54.921472Z",
     "start_time": "2021-07-19T20:52:54.644917Z"
    }
   },
   "outputs": [],
   "source": [
    "val =  [(\"Wendys\",\"6000\",\"4500\",\"202001\"),\n",
    "        (\"Patties\",\"900\",\"900\",\"202001\"),\n",
    "        ('Zebeleo', '5', '10000', '202002'),\n",
    "        ('Koburger', '3000', '2500', '202002')]\n",
    "\n",
    "\n",
    "sql = '''INSERT INTO empresas(estabelecimento, receita, custo, anomes) \n",
    "          VALUES (%s,%s,%s,%s)'''\n",
    "\n",
    "cursor.executemany(sql, val)"
   ]
  },
  {
   "cell_type": "markdown",
   "metadata": {},
   "source": [
    "Podemos criar uma função no python para inserir dados diretamente no banco de dados"
   ]
  },
  {
   "cell_type": "code",
   "execution_count": 18,
   "metadata": {
    "ExecuteTime": {
     "end_time": "2021-07-19T21:02:26.862457Z",
     "start_time": "2021-07-19T21:02:26.856455Z"
    }
   },
   "outputs": [],
   "source": [
    "def input_data(con=con, cursor=cursor):\n",
    "    print('Nome da Empresa :')\n",
    "    nome = input()\n",
    "    print('Receita da Empresa :')\n",
    "    receita = input()\n",
    "    print('Custo da Empresa :')\n",
    "    custo = input()\n",
    "    print('Anomes :')\n",
    "    anomes = input()\n",
    "    \n",
    "    \n",
    "    query = f'''INSERT INTO empresas(estabelecimento,receita, custo, anomes) \n",
    "                    VALUES ('{nome}','{receita}','{custo}','{anomes}')'''\n",
    "    \n",
    "    cursor.execute(query)\n",
    "    \n",
    "    print('Data inserted!')"
   ]
  },
  {
   "cell_type": "code",
   "execution_count": 19,
   "metadata": {
    "ExecuteTime": {
     "end_time": "2021-07-19T21:02:33.945043Z",
     "start_time": "2021-07-19T21:02:27.596045Z"
    }
   },
   "outputs": [
    {
     "name": "stdout",
     "output_type": "stream",
     "text": [
      "Nome da Empresa :\n",
      "Bullguer\n",
      "Receita da Empresa :\n",
      "40\n",
      "Custo da Empresa :\n",
      "30\n",
      "Anomes :\n",
      "202102\n",
      "Data inserted!\n"
     ]
    }
   ],
   "source": [
    "input_data()"
   ]
  },
  {
   "cell_type": "markdown",
   "metadata": {},
   "source": [
    "### Delete "
   ]
  },
  {
   "cell_type": "markdown",
   "metadata": {},
   "source": [
    "Podemos deletar uma linha do banco de dados"
   ]
  },
  {
   "cell_type": "code",
   "execution_count": 21,
   "metadata": {
    "ExecuteTime": {
     "end_time": "2021-07-19T21:02:40.557130Z",
     "start_time": "2021-07-19T21:02:40.302393Z"
    }
   },
   "outputs": [],
   "source": [
    "query = \"DELETE  FROM empresas Where estabelecimento = 'Bullguer'\"\n",
    "cursor.execute(query)"
   ]
  },
  {
   "cell_type": "markdown",
   "metadata": {},
   "source": [
    "### Update"
   ]
  },
  {
   "cell_type": "markdown",
   "metadata": {},
   "source": [
    "Podemos atualizar um valor da tabela"
   ]
  },
  {
   "cell_type": "code",
   "execution_count": 22,
   "metadata": {
    "ExecuteTime": {
     "end_time": "2021-07-19T21:02:44.799352Z",
     "start_time": "2021-07-19T21:02:44.550019Z"
    }
   },
   "outputs": [],
   "source": [
    "query = \"UPDATE empresas set estabelecimento = 'Mequi_1000' Where estabelecimento = 'MCDonalds'\"\n",
    "cursor.execute(query)"
   ]
  }
 ],
 "metadata": {
  "hide_input": false,
  "kernelspec": {
   "display_name": "Python 3",
   "language": "python",
   "name": "python3"
  },
  "language_info": {
   "codemirror_mode": {
    "name": "ipython",
    "version": 3
   },
   "file_extension": ".py",
   "mimetype": "text/x-python",
   "name": "python",
   "nbconvert_exporter": "python",
   "pygments_lexer": "ipython3",
   "version": "3.8.3"
  },
  "toc": {
   "base_numbering": 1,
   "nav_menu": {},
   "number_sections": true,
   "sideBar": true,
   "skip_h1_title": false,
   "title_cell": "Table of Contents",
   "title_sidebar": "Contents",
   "toc_cell": false,
   "toc_position": {},
   "toc_section_display": true,
   "toc_window_display": true
  },
  "varInspector": {
   "cols": {
    "lenName": 16,
    "lenType": 16,
    "lenVar": 40
   },
   "kernels_config": {
    "python": {
     "delete_cmd_postfix": "",
     "delete_cmd_prefix": "del ",
     "library": "var_list.py",
     "varRefreshCmd": "print(var_dic_list())"
    },
    "r": {
     "delete_cmd_postfix": ") ",
     "delete_cmd_prefix": "rm(",
     "library": "var_list.r",
     "varRefreshCmd": "cat(var_dic_list()) "
    }
   },
   "types_to_exclude": [
    "module",
    "function",
    "builtin_function_or_method",
    "instance",
    "_Feature"
   ],
   "window_display": false
  }
 },
 "nbformat": 4,
 "nbformat_minor": 2
}
